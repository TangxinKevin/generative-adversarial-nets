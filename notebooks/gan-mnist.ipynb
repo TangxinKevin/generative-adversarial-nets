{
 "cells": [
  {
   "cell_type": "code",
   "execution_count": null,
   "metadata": {
    "collapsed": false,
    "deletable": true,
    "editable": true
   },
   "outputs": [],
   "source": [
    "import tensorflow as tf\n",
    "import numpy as np\n",
    "import sys\n",
    "sys.path.append('../../generative-adversarial-nets/')\n",
    "from ganetwork import GAN\n",
    "from sklearn import datasets\n",
    "from sklearn.datasets import fetch_mldata\n",
    "from sklearn.preprocessing import minmax_scale, LabelBinarizer"
   ]
  },
  {
   "cell_type": "code",
   "execution_count": null,
   "metadata": {
    "collapsed": false,
    "deletable": true,
    "editable": true
   },
   "outputs": [],
   "source": [
    "mnist = fetch_mldata('MNIST original', data_home=\".\")\n",
    "X = minmax_scale(mnist.data.astype(np.float32))"
   ]
  },
  {
   "cell_type": "code",
   "execution_count": null,
   "metadata": {
    "collapsed": false,
    "deletable": true,
    "editable": true
   },
   "outputs": [],
   "source": [
    "n_Z_features = 100\n",
    "discriminator_hidden_layers=[(128, tf.nn.relu)]\n",
    "generator_hidden_layers=[(128, tf.nn.relu)]\n",
    "gan = GAN(n_Z_features, discriminator_hidden_layers, generator_hidden_layers)"
   ]
  },
  {
   "cell_type": "code",
   "execution_count": null,
   "metadata": {
    "collapsed": false,
    "deletable": true,
    "editable": true
   },
   "outputs": [],
   "source": [
    "gan.train(X, nb_epoch=10000, batch_size=64, validation_split=0.2)"
   ]
  },
  {
   "cell_type": "code",
   "execution_count": null,
   "metadata": {
    "collapsed": false,
    "deletable": true,
    "editable": true,
    "scrolled": false
   },
   "outputs": [],
   "source": [
    "%matplotlib notebook\n",
    "import numpy as np\n",
    "import matplotlib.pyplot as plt\n",
    "\n",
    "m = 100\n",
    "n = 100\n",
    "matrix = np.random.normal(0,1,size=(m, n))\n",
    "\n",
    "fig = plt.figure()\n",
    "ax = fig.add_subplot(111)\n",
    "plt.ion()\n",
    "\n",
    "#fig.show()\n",
    "#fig.canvas.draw()\n",
    "\n",
    "for i in range(0,100):\n",
    "    ax.clear()\n",
    "    ax.plot(matrix[i,:])\n",
    "    fig.canvas.draw()"
   ]
  },
  {
   "cell_type": "code",
   "execution_count": null,
   "metadata": {
    "collapsed": true
   },
   "outputs": [],
   "source": [
    "  #print('Epoch: {}\\nDiscriminator loss on mixed training data: {}\\nDiscriminator loss on generated data: {}\\n'.format(epoch, discriminator_loss_mixed_training_data, discriminator_loss_generated_data))\n",
    "        # X_generated = self.generate_samples(10, 1)\n",
    "        # plt.rcParams['figure.figsize'] = (50, 50)\n",
    "        # fig, ax = plt.subplots(1, 10)\n",
    "        # img_dim = int(sqrt(X.shape[1]))\n",
    "        # X_img = X_generated.reshape(X_generated.shape[0], img_dim, -1)\n",
    "        # for ind in range(10):    \n",
    "        #     ax[ind].imshow(X_img[ind], cmap='gray_r')\n",
    "        #     ax[ind].axis('off')\n",
    "        # plt.show()\n",
    "        #print('Epoch: {}\\nDiscriminator loss on mixed training data: {}\\nDiscriminator loss on mixed validation data: {}\\nDiscriminator loss on generated data: {}\\n'.format(epoch, discriminator_loss_mixed_training_data, discriminator_loss_mixed_validation_data, discriminator_loss_generated_data))\n"
   ]
  }
 ],
 "metadata": {
  "kernelspec": {
   "display_name": "Python 3",
   "language": "python",
   "name": "python3"
  },
  "language_info": {
   "codemirror_mode": {
    "name": "ipython",
    "version": 3
   },
   "file_extension": ".py",
   "mimetype": "text/x-python",
   "name": "python",
   "nbconvert_exporter": "python",
   "pygments_lexer": "ipython3",
   "version": "3.6.0"
  }
 },
 "nbformat": 4,
 "nbformat_minor": 2
}
