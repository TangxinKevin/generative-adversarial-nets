{
 "cells": [
  {
   "cell_type": "code",
   "execution_count": 1,
   "metadata": {
    "collapsed": false,
    "deletable": true,
    "editable": true
   },
   "outputs": [],
   "source": [
    "import sys\n",
    "import tensorflow as tf\n",
    "sys.path.append('../../generative-adversarial-nets/')\n",
    "from ganetwork import GAN, CGAN\n",
    "from sklearn import datasets\n",
    "from sklearn.preprocessing import minmax_scale, LabelBinarizer"
   ]
  },
  {
   "cell_type": "code",
   "execution_count": 2,
   "metadata": {
    "collapsed": false,
    "deletable": true,
    "editable": true
   },
   "outputs": [],
   "source": [
    "ds = datasets.load_iris()\n",
    "X, y = minmax_scale(ds.data), LabelBinarizer().fit_transform(ds.target)"
   ]
  },
  {
   "cell_type": "code",
   "execution_count": 3,
   "metadata": {
    "collapsed": false,
    "deletable": true,
    "editable": true
   },
   "outputs": [
    {
     "name": "stdout",
     "output_type": "stream",
     "text": [
      "Epoch: 0, discriminator loss: 1.3853546380996704, generator loss: 0.6259244680404663\n",
      "Epoch: 1, discriminator loss: 1.3634237051010132, generator loss: 0.6782432794570923\n",
      "Epoch: 2, discriminator loss: 1.3066439628601074, generator loss: 0.6663618087768555\n",
      "Epoch: 3, discriminator loss: 1.2135047912597656, generator loss: 0.6855267286300659\n",
      "Epoch: 4, discriminator loss: 1.1139881610870361, generator loss: 0.7862200140953064\n",
      "Epoch: 5, discriminator loss: 1.3998146057128906, generator loss: 0.5900273323059082\n",
      "Epoch: 6, discriminator loss: 1.1941015720367432, generator loss: 0.690290093421936\n",
      "Epoch: 7, discriminator loss: 1.1108717918395996, generator loss: 0.6952508687973022\n",
      "Epoch: 8, discriminator loss: 1.324676275253296, generator loss: 0.6796755790710449\n",
      "Epoch: 9, discriminator loss: 1.4044153690338135, generator loss: 0.745639443397522\n",
      "Epoch: 10, discriminator loss: 1.3530964851379395, generator loss: 0.7266297340393066\n",
      "Epoch: 11, discriminator loss: 1.4250707626342773, generator loss: 0.745116114616394\n",
      "Epoch: 12, discriminator loss: 1.436141848564148, generator loss: 0.7294214963912964\n",
      "Epoch: 13, discriminator loss: 1.427091121673584, generator loss: 0.7044898271560669\n",
      "Epoch: 14, discriminator loss: 1.3074471950531006, generator loss: 0.7802088856697083\n",
      "Epoch: 15, discriminator loss: 1.3298592567443848, generator loss: 0.7168365716934204\n",
      "Epoch: 16, discriminator loss: 1.2564468383789062, generator loss: 0.6615994572639465\n",
      "Epoch: 17, discriminator loss: 1.329718828201294, generator loss: 0.7142036557197571\n",
      "Epoch: 18, discriminator loss: 1.3682396411895752, generator loss: 0.6898996233940125\n",
      "Epoch: 19, discriminator loss: 1.4279038906097412, generator loss: 0.7086929082870483\n",
      "Epoch: 20, discriminator loss: 1.4149432182312012, generator loss: 0.6841008067131042\n",
      "Epoch: 21, discriminator loss: 1.4127094745635986, generator loss: 0.7211915254592896\n",
      "Epoch: 22, discriminator loss: 1.378377914428711, generator loss: 0.6593572497367859\n",
      "Epoch: 23, discriminator loss: 1.343984842300415, generator loss: 0.7289037704467773\n",
      "Epoch: 24, discriminator loss: 1.4223361015319824, generator loss: 0.7286835312843323\n",
      "Epoch: 25, discriminator loss: 1.3620823621749878, generator loss: 0.7515602111816406\n",
      "Epoch: 26, discriminator loss: 1.2871438264846802, generator loss: 0.7946704030036926\n",
      "Epoch: 27, discriminator loss: 1.329761028289795, generator loss: 0.7032586932182312\n",
      "Epoch: 28, discriminator loss: 1.2314770221710205, generator loss: 0.7296683192253113\n",
      "Epoch: 29, discriminator loss: 1.3582165241241455, generator loss: 0.663013756275177\n",
      "Epoch: 30, discriminator loss: 1.3568025827407837, generator loss: 0.7844976186752319\n",
      "Epoch: 31, discriminator loss: 1.3353216648101807, generator loss: 0.6758550405502319\n",
      "Epoch: 32, discriminator loss: 1.2722467184066772, generator loss: 0.7299973368644714\n",
      "Epoch: 33, discriminator loss: 1.387155532836914, generator loss: 0.6437938809394836\n",
      "Epoch: 34, discriminator loss: 1.3596382141113281, generator loss: 0.7238307595252991\n",
      "Epoch: 35, discriminator loss: 1.3539924621582031, generator loss: 0.6818324327468872\n",
      "Epoch: 36, discriminator loss: 1.2886604070663452, generator loss: 0.6172010898590088\n",
      "Epoch: 37, discriminator loss: 1.3857738971710205, generator loss: 0.633377194404602\n",
      "Epoch: 38, discriminator loss: 1.3001463413238525, generator loss: 0.7601405382156372\n",
      "Epoch: 39, discriminator loss: 1.3399226665496826, generator loss: 0.6205016374588013\n",
      "Epoch: 40, discriminator loss: 1.3456082344055176, generator loss: 0.6925656199455261\n",
      "Epoch: 41, discriminator loss: 1.3825981616973877, generator loss: 0.7073836326599121\n",
      "Epoch: 42, discriminator loss: 1.458329677581787, generator loss: 0.7763301134109497\n",
      "Epoch: 43, discriminator loss: 1.2578437328338623, generator loss: 0.7307685017585754\n",
      "Epoch: 44, discriminator loss: 1.2942315340042114, generator loss: 0.6654248833656311\n",
      "Epoch: 45, discriminator loss: 1.2785847187042236, generator loss: 0.8412474393844604\n",
      "Epoch: 46, discriminator loss: 1.2956466674804688, generator loss: 0.7185508012771606\n",
      "Epoch: 47, discriminator loss: 1.4004920721054077, generator loss: 0.6711515188217163\n",
      "Epoch: 48, discriminator loss: 1.414388656616211, generator loss: 0.7852346301078796\n",
      "Epoch: 49, discriminator loss: 1.4023466110229492, generator loss: 0.6417368054389954\n"
     ]
    }
   ],
   "source": [
    "discriminator_layers=[(4, None), (8, tf.nn.tanh), (3, tf.nn.softmax), (1, None)]\n",
    "generator_layers=[(6, None), (5, tf.nn.tanh), (4, None)]\n",
    "gan = GAN(discriminator_layers, generator_layers)\n",
    "gan.train(X, nb_epoch=50, batch_size=5, discriminator_steps=5)"
   ]
  },
  {
   "cell_type": "code",
   "execution_count": 4,
   "metadata": {
    "collapsed": false,
    "deletable": true,
    "editable": true
   },
   "outputs": [
    {
     "name": "stdout",
     "output_type": "stream",
     "text": [
      "Epoch: 0, discriminator loss: 1.841401219367981, generator loss: 0.2216041535139084\n",
      "Epoch: 1, discriminator loss: 1.7090355157852173, generator loss: 0.2723391056060791\n",
      "Epoch: 2, discriminator loss: 1.5939841270446777, generator loss: 0.331861674785614\n",
      "Epoch: 3, discriminator loss: 1.525338888168335, generator loss: 0.383400022983551\n",
      "Epoch: 4, discriminator loss: 1.4776540994644165, generator loss: 0.42345744371414185\n",
      "Epoch: 5, discriminator loss: 1.4358835220336914, generator loss: 0.4583663046360016\n",
      "Epoch: 6, discriminator loss: 1.427215814590454, generator loss: 0.480266273021698\n",
      "Epoch: 7, discriminator loss: 1.3838539123535156, generator loss: 0.5086429119110107\n",
      "Epoch: 8, discriminator loss: 1.415403127670288, generator loss: 0.5096234679222107\n",
      "Epoch: 9, discriminator loss: 1.3890314102172852, generator loss: 0.529121458530426\n",
      "Epoch: 10, discriminator loss: 1.3976528644561768, generator loss: 0.5770511031150818\n",
      "Epoch: 11, discriminator loss: 1.3820905685424805, generator loss: 0.5650060176849365\n",
      "Epoch: 12, discriminator loss: 1.4009076356887817, generator loss: 0.5951082110404968\n",
      "Epoch: 13, discriminator loss: 1.3566150665283203, generator loss: 0.5922821164131165\n",
      "Epoch: 14, discriminator loss: 1.3772354125976562, generator loss: 0.6520075798034668\n",
      "Epoch: 15, discriminator loss: 1.3341968059539795, generator loss: 0.627008318901062\n",
      "Epoch: 16, discriminator loss: 1.4267151355743408, generator loss: 0.6284242868423462\n",
      "Epoch: 17, discriminator loss: 1.3058440685272217, generator loss: 0.6403592228889465\n",
      "Epoch: 18, discriminator loss: 1.38211989402771, generator loss: 0.6508191227912903\n",
      "Epoch: 19, discriminator loss: 1.3504841327667236, generator loss: 0.6614617109298706\n",
      "Epoch: 20, discriminator loss: 1.3758760690689087, generator loss: 0.5834735035896301\n",
      "Epoch: 21, discriminator loss: 1.402211308479309, generator loss: 0.6550833582878113\n",
      "Epoch: 22, discriminator loss: 1.387664794921875, generator loss: 0.6496474742889404\n",
      "Epoch: 23, discriminator loss: 1.3919395208358765, generator loss: 0.7414888143539429\n",
      "Epoch: 24, discriminator loss: 1.3775818347930908, generator loss: 0.6589791774749756\n",
      "Epoch: 25, discriminator loss: 1.4073904752731323, generator loss: 0.7070595026016235\n",
      "Epoch: 26, discriminator loss: 1.388471007347107, generator loss: 0.709199070930481\n",
      "Epoch: 27, discriminator loss: 1.4152921438217163, generator loss: 0.6665626764297485\n",
      "Epoch: 28, discriminator loss: 1.4139349460601807, generator loss: 0.688322901725769\n",
      "Epoch: 29, discriminator loss: 1.3865063190460205, generator loss: 0.6909681558609009\n",
      "Epoch: 30, discriminator loss: 1.3959760665893555, generator loss: 0.7117795944213867\n",
      "Epoch: 31, discriminator loss: 1.416754961013794, generator loss: 0.6982772350311279\n",
      "Epoch: 32, discriminator loss: 1.4015763998031616, generator loss: 0.6988838911056519\n",
      "Epoch: 33, discriminator loss: 1.3941504955291748, generator loss: 0.7101609706878662\n",
      "Epoch: 34, discriminator loss: 1.3899379968643188, generator loss: 0.7067903280258179\n",
      "Epoch: 35, discriminator loss: 1.3876852989196777, generator loss: 0.7098082304000854\n",
      "Epoch: 36, discriminator loss: 1.3874874114990234, generator loss: 0.6968041658401489\n",
      "Epoch: 37, discriminator loss: 1.3900792598724365, generator loss: 0.6993115544319153\n",
      "Epoch: 38, discriminator loss: 1.3915586471557617, generator loss: 0.6942347884178162\n",
      "Epoch: 39, discriminator loss: 1.3877716064453125, generator loss: 0.6931173801422119\n",
      "Epoch: 40, discriminator loss: 1.3886456489562988, generator loss: 0.692835807800293\n",
      "Epoch: 41, discriminator loss: 1.388858437538147, generator loss: 0.6957054138183594\n",
      "Epoch: 42, discriminator loss: 1.3887264728546143, generator loss: 0.6950997710227966\n",
      "Epoch: 43, discriminator loss: 1.3869065046310425, generator loss: 0.6969461441040039\n",
      "Epoch: 44, discriminator loss: 1.389875888824463, generator loss: 0.6896581649780273\n",
      "Epoch: 45, discriminator loss: 1.3897790908813477, generator loss: 0.688934862613678\n",
      "Epoch: 46, discriminator loss: 1.388007402420044, generator loss: 0.691439151763916\n",
      "Epoch: 47, discriminator loss: 1.388509750366211, generator loss: 0.6914684176445007\n",
      "Epoch: 48, discriminator loss: 1.3867378234863281, generator loss: 0.6933650970458984\n",
      "Epoch: 49, discriminator loss: 1.388972282409668, generator loss: 0.6902779936790466\n"
     ]
    }
   ],
   "source": [
    "discriminator_layers=[(7, None), (8, tf.nn.tanh), (3, tf.nn.softmax), (1, None)]\n",
    "generator_layers=[(9, None), (5, tf.nn.tanh), (4, None)]\n",
    "cgan = CGAN(discriminator_layers, generator_layers)\n",
    "cgan.train(X, y, nb_epoch=50, batch_size=5)"
   ]
  },
  {
   "cell_type": "code",
   "execution_count": 6,
   "metadata": {
    "collapsed": false
   },
   "outputs": [
    {
     "name": "stdout",
     "output_type": "stream",
     "text": [
      "0 9\n",
      "9 18\n",
      "18 27\n",
      "27 36\n",
      "36 45\n",
      "45 54\n",
      "54 63\n",
      "63 72\n",
      "72 81\n",
      "81 90\n",
      "90 99\n",
      "99 108\n",
      "108 117\n",
      "117 126\n",
      "126 135\n",
      "135 144\n"
     ]
    }
   ],
   "source": [
    "n_samples = 150\n",
    "batch_size = 9\n",
    "n_batches = int(n_samples / batch_size)\n",
    "for batch_index in range(n_batches):    \n",
    "    start_index = batch_index * batch_size\n",
    "    end_index = start_index + batch_size\n",
    "    print(start_index, end_index)\n",
    "        "
   ]
  },
  {
   "cell_type": "code",
   "execution_count": 9,
   "metadata": {
    "collapsed": false
   },
   "outputs": [
    {
     "data": {
      "text/plain": [
       "16"
      ]
     },
     "execution_count": 9,
     "metadata": {},
     "output_type": "execute_result"
    }
   ],
   "source": [
    "n_samples = 150\n",
    "batch_size = 9\n",
    "n_samples // batch_size"
   ]
  },
  {
   "cell_type": "code",
   "execution_count": null,
   "metadata": {
    "collapsed": true
   },
   "outputs": [],
   "source": []
  }
 ],
 "metadata": {
  "kernelspec": {
   "display_name": "Python 3",
   "language": "python",
   "name": "python3"
  },
  "language_info": {
   "codemirror_mode": {
    "name": "ipython",
    "version": 3
   },
   "file_extension": ".py",
   "mimetype": "text/x-python",
   "name": "python",
   "nbconvert_exporter": "python",
   "pygments_lexer": "ipython3",
   "version": "3.6.0"
  }
 },
 "nbformat": 4,
 "nbformat_minor": 2
}
