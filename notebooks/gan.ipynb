{
 "cells": [
  {
   "cell_type": "code",
   "execution_count": 1,
   "metadata": {
    "collapsed": false,
    "deletable": true,
    "editable": true
   },
   "outputs": [],
   "source": [
    "import sys\n",
    "import tensorflow as tf\n",
    "sys.path.append('../../generative-adversarial-nets/')\n",
    "from ganetwork import GAN, CGAN\n",
    "from sklearn import datasets\n",
    "from sklearn.preprocessing import minmax_scale, LabelBinarizer"
   ]
  },
  {
   "cell_type": "code",
   "execution_count": 2,
   "metadata": {
    "collapsed": false,
    "deletable": true,
    "editable": true
   },
   "outputs": [],
   "source": [
    "ds = datasets.load_iris()\n",
    "X, y = minmax_scale(ds.data), LabelBinarizer().fit_transform(ds.target)"
   ]
  },
  {
   "cell_type": "code",
   "execution_count": 3,
   "metadata": {
    "collapsed": false,
    "deletable": true,
    "editable": true
   },
   "outputs": [
    {
     "name": "stdout",
     "output_type": "stream",
     "text": [
      "Epoch: 0, discriminator loss: 1.8294187784194946, generator loss: 0.2246563732624054\n",
      "Epoch: 1, discriminator loss: 1.7643115520477295, generator loss: 0.2490803748369217\n",
      "Epoch: 2, discriminator loss: 1.7019665241241455, generator loss: 0.2765854299068451\n",
      "Epoch: 3, discriminator loss: 1.647681713104248, generator loss: 0.3021990954875946\n",
      "Epoch: 4, discriminator loss: 1.6041815280914307, generator loss: 0.3280656933784485\n",
      "Epoch: 5, discriminator loss: 1.578548789024353, generator loss: 0.348564475774765\n",
      "Epoch: 6, discriminator loss: 1.5362904071807861, generator loss: 0.37651902437210083\n",
      "Epoch: 7, discriminator loss: 1.5267493724822998, generator loss: 0.396761953830719\n",
      "Epoch: 8, discriminator loss: 1.4990713596343994, generator loss: 0.41975241899490356\n",
      "Epoch: 9, discriminator loss: 1.4713313579559326, generator loss: 0.44313693046569824\n",
      "Epoch: 10, discriminator loss: 1.465775489807129, generator loss: 0.46119189262390137\n",
      "Epoch: 11, discriminator loss: 1.453051209449768, generator loss: 0.48028358817100525\n",
      "Epoch: 12, discriminator loss: 1.4434715509414673, generator loss: 0.49684327840805054\n",
      "Epoch: 13, discriminator loss: 1.4261558055877686, generator loss: 0.5218957662582397\n",
      "Epoch: 14, discriminator loss: 1.4150136709213257, generator loss: 0.5343102216720581\n",
      "Epoch: 15, discriminator loss: 1.414052963256836, generator loss: 0.5539419651031494\n",
      "Epoch: 16, discriminator loss: 1.4082276821136475, generator loss: 0.5706513524055481\n",
      "Epoch: 17, discriminator loss: 1.4073187112808228, generator loss: 0.5837283730506897\n",
      "Epoch: 18, discriminator loss: 1.4013211727142334, generator loss: 0.5957025289535522\n",
      "Epoch: 19, discriminator loss: 1.401587724685669, generator loss: 0.6093953251838684\n",
      "Epoch: 20, discriminator loss: 1.3948945999145508, generator loss: 0.6186766028404236\n",
      "Epoch: 21, discriminator loss: 1.3934478759765625, generator loss: 0.6264072060585022\n",
      "Epoch: 22, discriminator loss: 1.3911805152893066, generator loss: 0.6356489658355713\n",
      "Epoch: 23, discriminator loss: 1.3913259506225586, generator loss: 0.6438246965408325\n",
      "Epoch: 24, discriminator loss: 1.3902531862258911, generator loss: 0.6486960649490356\n",
      "Epoch: 25, discriminator loss: 1.3903576135635376, generator loss: 0.6548157930374146\n",
      "Epoch: 26, discriminator loss: 1.3898835182189941, generator loss: 0.66090989112854\n",
      "Epoch: 27, discriminator loss: 1.3877229690551758, generator loss: 0.6674883961677551\n",
      "Epoch: 28, discriminator loss: 1.3893980979919434, generator loss: 0.6688384413719177\n",
      "Epoch: 29, discriminator loss: 1.3869515657424927, generator loss: 0.672261118888855\n",
      "Epoch: 30, discriminator loss: 1.3877294063568115, generator loss: 0.6766837239265442\n",
      "Epoch: 31, discriminator loss: 1.3869590759277344, generator loss: 0.6786991357803345\n",
      "Epoch: 32, discriminator loss: 1.3880341053009033, generator loss: 0.681141197681427\n",
      "Epoch: 33, discriminator loss: 1.3879573345184326, generator loss: 0.6835957765579224\n",
      "Epoch: 34, discriminator loss: 1.3878604173660278, generator loss: 0.6842848062515259\n",
      "Epoch: 35, discriminator loss: 1.3867319822311401, generator loss: 0.6854628920555115\n",
      "Epoch: 36, discriminator loss: 1.387317419052124, generator loss: 0.6868867874145508\n",
      "Epoch: 37, discriminator loss: 1.3876789808273315, generator loss: 0.6888408064842224\n",
      "Epoch: 38, discriminator loss: 1.3871302604675293, generator loss: 0.6885844469070435\n",
      "Epoch: 39, discriminator loss: 1.3866801261901855, generator loss: 0.689957320690155\n",
      "Epoch: 40, discriminator loss: 1.3872253894805908, generator loss: 0.690414547920227\n",
      "Epoch: 41, discriminator loss: 1.387310266494751, generator loss: 0.6900889873504639\n",
      "Epoch: 42, discriminator loss: 1.3874661922454834, generator loss: 0.6913205981254578\n",
      "Epoch: 43, discriminator loss: 1.3863335847854614, generator loss: 0.6916490793228149\n",
      "Epoch: 44, discriminator loss: 1.3873825073242188, generator loss: 0.6916221380233765\n",
      "Epoch: 45, discriminator loss: 1.3874374628067017, generator loss: 0.6915491819381714\n",
      "Epoch: 46, discriminator loss: 1.3865282535552979, generator loss: 0.6917279958724976\n",
      "Epoch: 47, discriminator loss: 1.3868221044540405, generator loss: 0.6929609179496765\n",
      "Epoch: 48, discriminator loss: 1.3873217105865479, generator loss: 0.6919572353363037\n",
      "Epoch: 49, discriminator loss: 1.387033462524414, generator loss: 0.6924600601196289\n"
     ]
    }
   ],
   "source": [
    "discriminator_layers=[(4, None), (8, tf.nn.tanh), (3, tf.nn.softmax), (1, None)]\n",
    "generator_layers=[(6, None), (5, tf.nn.tanh), (4, None)]\n",
    "gan = GAN(discriminator_layers, generator_layers)\n",
    "gan.train(X, nb_epoch=50, batch_size=5, discriminator_steps=1)"
   ]
  },
  {
   "cell_type": "code",
   "execution_count": 4,
   "metadata": {
    "collapsed": false,
    "deletable": true,
    "editable": true
   },
   "outputs": [
    {
     "name": "stdout",
     "output_type": "stream",
     "text": [
      "Epoch: 0, discriminator loss: 2.023519515991211, generator loss: 0.17070654034614563\n",
      "Epoch: 1, discriminator loss: 1.9588241577148438, generator loss: 0.1866278201341629\n",
      "Epoch: 2, discriminator loss: 1.8911620378494263, generator loss: 0.2053084373474121\n",
      "Epoch: 3, discriminator loss: 1.825821042060852, generator loss: 0.2262095957994461\n",
      "Epoch: 4, discriminator loss: 1.7631868124008179, generator loss: 0.24893943965435028\n",
      "Epoch: 5, discriminator loss: 1.7079181671142578, generator loss: 0.2722267508506775\n",
      "Epoch: 6, discriminator loss: 1.6605675220489502, generator loss: 0.2951039671897888\n",
      "Epoch: 7, discriminator loss: 1.6199958324432373, generator loss: 0.31763216853141785\n",
      "Epoch: 8, discriminator loss: 1.585712194442749, generator loss: 0.3393407166004181\n",
      "Epoch: 9, discriminator loss: 1.5561764240264893, generator loss: 0.36126407980918884\n",
      "Epoch: 10, discriminator loss: 1.5304760932922363, generator loss: 0.38173192739486694\n",
      "Epoch: 11, discriminator loss: 1.508764624595642, generator loss: 0.4033498167991638\n",
      "Epoch: 12, discriminator loss: 1.487166404724121, generator loss: 0.4231594204902649\n",
      "Epoch: 13, discriminator loss: 1.4728116989135742, generator loss: 0.4441390633583069\n",
      "Epoch: 14, discriminator loss: 1.457261323928833, generator loss: 0.46208691596984863\n",
      "Epoch: 15, discriminator loss: 1.4455516338348389, generator loss: 0.48208683729171753\n",
      "Epoch: 16, discriminator loss: 1.43381929397583, generator loss: 0.5008624196052551\n",
      "Epoch: 17, discriminator loss: 1.4232463836669922, generator loss: 0.5178918838500977\n",
      "Epoch: 18, discriminator loss: 1.4166767597198486, generator loss: 0.535584568977356\n",
      "Epoch: 19, discriminator loss: 1.4115644693374634, generator loss: 0.5514540672302246\n",
      "Epoch: 20, discriminator loss: 1.4062942266464233, generator loss: 0.5671826601028442\n",
      "Epoch: 21, discriminator loss: 1.402645468711853, generator loss: 0.5810580253601074\n",
      "Epoch: 22, discriminator loss: 1.39790678024292, generator loss: 0.5949652791023254\n",
      "Epoch: 23, discriminator loss: 1.3948593139648438, generator loss: 0.6074868440628052\n",
      "Epoch: 24, discriminator loss: 1.3933091163635254, generator loss: 0.6190149188041687\n",
      "Epoch: 25, discriminator loss: 1.3918709754943848, generator loss: 0.6290760040283203\n",
      "Epoch: 26, discriminator loss: 1.3902260065078735, generator loss: 0.6377271413803101\n",
      "Epoch: 27, discriminator loss: 1.3892894983291626, generator loss: 0.6456260085105896\n",
      "Epoch: 28, discriminator loss: 1.3885352611541748, generator loss: 0.6525252461433411\n",
      "Epoch: 29, discriminator loss: 1.3881560564041138, generator loss: 0.6582061052322388\n",
      "Epoch: 30, discriminator loss: 1.3876630067825317, generator loss: 0.6631516218185425\n",
      "Epoch: 31, discriminator loss: 1.3872634172439575, generator loss: 0.6675947904586792\n",
      "Epoch: 32, discriminator loss: 1.3870842456817627, generator loss: 0.6712813377380371\n",
      "Epoch: 33, discriminator loss: 1.386991262435913, generator loss: 0.6745932698249817\n",
      "Epoch: 34, discriminator loss: 1.3868738412857056, generator loss: 0.6775403022766113\n",
      "Epoch: 35, discriminator loss: 1.386728048324585, generator loss: 0.6801162958145142\n",
      "Epoch: 36, discriminator loss: 1.3866455554962158, generator loss: 0.6822303533554077\n",
      "Epoch: 37, discriminator loss: 1.3865998983383179, generator loss: 0.6840234994888306\n",
      "Epoch: 38, discriminator loss: 1.3865718841552734, generator loss: 0.6856831908226013\n",
      "Epoch: 39, discriminator loss: 1.3865575790405273, generator loss: 0.6869131922721863\n",
      "Epoch: 40, discriminator loss: 1.3865137100219727, generator loss: 0.6880890727043152\n",
      "Epoch: 41, discriminator loss: 1.3864378929138184, generator loss: 0.6890544891357422\n",
      "Epoch: 42, discriminator loss: 1.3865156173706055, generator loss: 0.6899195909500122\n",
      "Epoch: 43, discriminator loss: 1.386458158493042, generator loss: 0.6905645132064819\n",
      "Epoch: 44, discriminator loss: 1.3864409923553467, generator loss: 0.6911638379096985\n",
      "Epoch: 45, discriminator loss: 1.3864375352859497, generator loss: 0.6916387677192688\n",
      "Epoch: 46, discriminator loss: 1.3864006996154785, generator loss: 0.6920225024223328\n",
      "Epoch: 47, discriminator loss: 1.386423110961914, generator loss: 0.6923873424530029\n",
      "Epoch: 48, discriminator loss: 1.3863754272460938, generator loss: 0.6926918625831604\n",
      "Epoch: 49, discriminator loss: 1.3864259719848633, generator loss: 0.6928470134735107\n"
     ]
    }
   ],
   "source": [
    "discriminator_layers=[(7, None), (8, tf.nn.tanh), (3, tf.nn.softmax), (1, None)]\n",
    "generator_layers=[(9, None), (5, tf.nn.tanh), (4, None)]\n",
    "cgan = CGAN(discriminator_layers, generator_layers)\n",
    "cgan.train(X, y, nb_epoch=50, batch_size=5)"
   ]
  },
  {
   "cell_type": "code",
   "execution_count": null,
   "metadata": {
    "collapsed": true
   },
   "outputs": [],
   "source": []
  }
 ],
 "metadata": {
  "kernelspec": {
   "display_name": "Python 3",
   "language": "python",
   "name": "python3"
  },
  "language_info": {
   "codemirror_mode": {
    "name": "ipython",
    "version": 3
   },
   "file_extension": ".py",
   "mimetype": "text/x-python",
   "name": "python",
   "nbconvert_exporter": "python",
   "pygments_lexer": "ipython3",
   "version": "3.6.0"
  }
 },
 "nbformat": 4,
 "nbformat_minor": 2
}
