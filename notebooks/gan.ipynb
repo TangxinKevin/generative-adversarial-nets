{
 "cells": [
  {
   "cell_type": "code",
   "execution_count": 1,
   "metadata": {
    "collapsed": false,
    "deletable": true,
    "editable": true
   },
   "outputs": [],
   "source": [
    "import sys\n",
    "import tensorflow as tf\n",
    "sys.path.append('../../generative-adversarial-nets/')\n",
    "from ganetwork import GAN, CGAN\n",
    "from sklearn import datasets\n",
    "from sklearn.preprocessing import minmax_scale, LabelBinarizer"
   ]
  },
  {
   "cell_type": "code",
   "execution_count": 2,
   "metadata": {
    "collapsed": false,
    "deletable": true,
    "editable": true
   },
   "outputs": [],
   "source": [
    "ds = datasets.load_iris()\n",
    "X, y = minmax_scale(ds.data), LabelBinarizer().fit_transform(ds.target)"
   ]
  },
  {
   "cell_type": "code",
   "execution_count": 3,
   "metadata": {
    "collapsed": false,
    "deletable": true,
    "editable": true
   },
   "outputs": [
    {
     "name": "stdout",
     "output_type": "stream",
     "text": [
      "Epoch: 0, discriminator loss: 2.355452299118042, generator loss: 0.11250454187393188\n",
      "Epoch: 1, discriminator loss: 2.127659797668457, generator loss: 0.1488005369901657\n",
      "Epoch: 2, discriminator loss: 1.8449273109436035, generator loss: 0.22476646304130554\n",
      "Epoch: 3, discriminator loss: 1.4380414485931396, generator loss: 0.49230533838272095\n",
      "Epoch: 4, discriminator loss: 1.358304738998413, generator loss: 0.6766377687454224\n",
      "Epoch: 5, discriminator loss: 1.3556454181671143, generator loss: 0.7290253043174744\n",
      "Epoch: 6, discriminator loss: 1.3699069023132324, generator loss: 0.7390128374099731\n",
      "Epoch: 7, discriminator loss: 1.3497661352157593, generator loss: 0.6853963136672974\n",
      "Epoch: 8, discriminator loss: 1.4001185894012451, generator loss: 0.6704440116882324\n",
      "Epoch: 9, discriminator loss: 1.4631491899490356, generator loss: 0.7729496359825134\n",
      "Epoch: 10, discriminator loss: 1.5649237632751465, generator loss: 0.6111592650413513\n",
      "Epoch: 11, discriminator loss: 1.4830706119537354, generator loss: 0.5914663076400757\n",
      "Epoch: 12, discriminator loss: 1.4183392524719238, generator loss: 0.6304407119750977\n",
      "Epoch: 13, discriminator loss: 1.378331184387207, generator loss: 0.6609085202217102\n",
      "Epoch: 14, discriminator loss: 1.357384204864502, generator loss: 0.6777524948120117\n",
      "Epoch: 15, discriminator loss: 1.3216025829315186, generator loss: 0.6606264710426331\n",
      "Epoch: 16, discriminator loss: 1.2656769752502441, generator loss: 0.7013590931892395\n",
      "Epoch: 17, discriminator loss: 1.3299671411514282, generator loss: 0.6870560646057129\n",
      "Epoch: 18, discriminator loss: 1.2981644868850708, generator loss: 0.675143301486969\n",
      "Epoch: 19, discriminator loss: 1.3496520519256592, generator loss: 0.7202065587043762\n",
      "Epoch: 20, discriminator loss: 1.3669836521148682, generator loss: 0.6922513246536255\n",
      "Epoch: 21, discriminator loss: 1.3695828914642334, generator loss: 0.7071341276168823\n",
      "Epoch: 22, discriminator loss: 1.3717374801635742, generator loss: 0.7117218375205994\n",
      "Epoch: 23, discriminator loss: 1.3674465417861938, generator loss: 0.7266567945480347\n",
      "Epoch: 24, discriminator loss: 1.3930277824401855, generator loss: 0.70075523853302\n",
      "Epoch: 25, discriminator loss: 1.380295991897583, generator loss: 0.694566011428833\n",
      "Epoch: 26, discriminator loss: 1.3775804042816162, generator loss: 0.699052631855011\n",
      "Epoch: 27, discriminator loss: 1.3886828422546387, generator loss: 0.691392719745636\n",
      "Epoch: 28, discriminator loss: 1.4015307426452637, generator loss: 0.6902148127555847\n",
      "Epoch: 29, discriminator loss: 1.401122808456421, generator loss: 0.6782501935958862\n",
      "Epoch: 30, discriminator loss: 1.3966131210327148, generator loss: 0.6785978078842163\n",
      "Epoch: 31, discriminator loss: 1.3731887340545654, generator loss: 0.6247478723526001\n",
      "Epoch: 32, discriminator loss: 1.3459534645080566, generator loss: 0.6868994832038879\n",
      "Epoch: 33, discriminator loss: 1.3341786861419678, generator loss: 0.6768827438354492\n",
      "Epoch: 34, discriminator loss: 1.2865225076675415, generator loss: 0.6408724784851074\n",
      "Epoch: 35, discriminator loss: 1.3935034275054932, generator loss: 0.7274603843688965\n",
      "Epoch: 36, discriminator loss: 1.2471219301223755, generator loss: 0.6960511207580566\n",
      "Epoch: 37, discriminator loss: 1.3655678033828735, generator loss: 0.7082145810127258\n",
      "Epoch: 38, discriminator loss: 1.3816628456115723, generator loss: 0.7245174050331116\n",
      "Epoch: 39, discriminator loss: 1.4023829698562622, generator loss: 0.6962906122207642\n",
      "Epoch: 40, discriminator loss: 1.338924765586853, generator loss: 0.6863545775413513\n",
      "Epoch: 41, discriminator loss: 1.374476432800293, generator loss: 0.6453045606613159\n",
      "Epoch: 42, discriminator loss: 1.3846468925476074, generator loss: 0.6877022385597229\n",
      "Epoch: 43, discriminator loss: 1.3871392011642456, generator loss: 0.6937631964683533\n",
      "Epoch: 44, discriminator loss: 1.3780195713043213, generator loss: 0.6941097378730774\n",
      "Epoch: 45, discriminator loss: 1.372729778289795, generator loss: 0.6882020235061646\n",
      "Epoch: 46, discriminator loss: 1.3844199180603027, generator loss: 0.697513222694397\n",
      "Epoch: 47, discriminator loss: 1.374267816543579, generator loss: 0.6815158724784851\n",
      "Epoch: 48, discriminator loss: 1.3805453777313232, generator loss: 0.6948553919792175\n",
      "Epoch: 49, discriminator loss: 1.3856819868087769, generator loss: 0.6953805685043335\n",
      "Epoch: 50, discriminator loss: 1.3857131004333496, generator loss: 0.6867796778678894\n",
      "Epoch: 51, discriminator loss: 1.392203450202942, generator loss: 0.6899016499519348\n",
      "Epoch: 52, discriminator loss: 1.391889214515686, generator loss: 0.6872483491897583\n",
      "Epoch: 53, discriminator loss: 1.3975040912628174, generator loss: 0.6874379515647888\n",
      "Epoch: 54, discriminator loss: 1.3874247074127197, generator loss: 0.6861104965209961\n",
      "Epoch: 55, discriminator loss: 1.3932411670684814, generator loss: 0.6967326402664185\n",
      "Epoch: 56, discriminator loss: 1.3841552734375, generator loss: 0.692276120185852\n",
      "Epoch: 57, discriminator loss: 1.387337565422058, generator loss: 0.6885871291160583\n",
      "Epoch: 58, discriminator loss: 1.3937437534332275, generator loss: 0.6865690350532532\n",
      "Epoch: 59, discriminator loss: 1.389428734779358, generator loss: 0.6836251616477966\n",
      "Epoch: 60, discriminator loss: 1.3835289478302002, generator loss: 0.6899150609970093\n",
      "Epoch: 61, discriminator loss: 1.3805025815963745, generator loss: 0.6874929666519165\n",
      "Epoch: 62, discriminator loss: 1.3900974988937378, generator loss: 0.6809923052787781\n",
      "Epoch: 63, discriminator loss: 1.3883891105651855, generator loss: 0.6879111528396606\n",
      "Epoch: 64, discriminator loss: 1.3841392993927002, generator loss: 0.6878464818000793\n",
      "Epoch: 65, discriminator loss: 1.3802454471588135, generator loss: 0.6876330971717834\n",
      "Epoch: 66, discriminator loss: 1.3799482583999634, generator loss: 0.6847492456436157\n",
      "Epoch: 67, discriminator loss: 1.3792922496795654, generator loss: 0.6904731392860413\n",
      "Epoch: 68, discriminator loss: 1.373844861984253, generator loss: 0.6973744630813599\n",
      "Epoch: 69, discriminator loss: 1.3796687126159668, generator loss: 0.6950646042823792\n",
      "Epoch: 70, discriminator loss: 1.3887988328933716, generator loss: 0.6883312463760376\n",
      "Epoch: 71, discriminator loss: 1.3863482475280762, generator loss: 0.6980477571487427\n",
      "Epoch: 72, discriminator loss: 1.3999946117401123, generator loss: 0.6990659832954407\n",
      "Epoch: 73, discriminator loss: 1.4034485816955566, generator loss: 0.7033882141113281\n",
      "Epoch: 74, discriminator loss: 1.3801265954971313, generator loss: 0.6631580591201782\n",
      "Epoch: 75, discriminator loss: 1.3800241947174072, generator loss: 0.6826728582382202\n",
      "Epoch: 76, discriminator loss: 1.3693907260894775, generator loss: 0.6720415949821472\n",
      "Epoch: 77, discriminator loss: 1.3728491067886353, generator loss: 0.6921148300170898\n",
      "Epoch: 78, discriminator loss: 1.369319200515747, generator loss: 0.687145471572876\n",
      "Epoch: 79, discriminator loss: 1.3532377481460571, generator loss: 0.6880191564559937\n",
      "Epoch: 80, discriminator loss: 1.3686822652816772, generator loss: 0.6922041177749634\n",
      "Epoch: 81, discriminator loss: 1.3632051944732666, generator loss: 0.6957122087478638\n",
      "Epoch: 82, discriminator loss: 1.3756206035614014, generator loss: 0.6565402746200562\n",
      "Epoch: 83, discriminator loss: 1.34011971950531, generator loss: 0.6896293759346008\n",
      "Epoch: 84, discriminator loss: 1.3571823835372925, generator loss: 0.6640807390213013\n",
      "Epoch: 85, discriminator loss: 1.3598428964614868, generator loss: 0.7018683552742004\n",
      "Epoch: 86, discriminator loss: 1.4035005569458008, generator loss: 0.6754516363143921\n",
      "Epoch: 87, discriminator loss: 1.3611958026885986, generator loss: 0.6973843574523926\n",
      "Epoch: 88, discriminator loss: 1.371464729309082, generator loss: 0.7031222581863403\n",
      "Epoch: 89, discriminator loss: 1.3600133657455444, generator loss: 0.7026466131210327\n",
      "Epoch: 90, discriminator loss: 1.359488606452942, generator loss: 0.7042673230171204\n",
      "Epoch: 91, discriminator loss: 1.3642628192901611, generator loss: 0.6967540979385376\n",
      "Epoch: 92, discriminator loss: 1.3665071725845337, generator loss: 0.6843970417976379\n",
      "Epoch: 93, discriminator loss: 1.3760485649108887, generator loss: 0.6894766688346863\n",
      "Epoch: 94, discriminator loss: 1.3736310005187988, generator loss: 0.6959472298622131\n",
      "Epoch: 95, discriminator loss: 1.382708191871643, generator loss: 0.6842807531356812\n",
      "Epoch: 96, discriminator loss: 1.4269001483917236, generator loss: 0.6837884187698364\n",
      "Epoch: 97, discriminator loss: 1.4161059856414795, generator loss: 0.6554902791976929\n",
      "Epoch: 98, discriminator loss: 1.4209994077682495, generator loss: 0.7054030895233154\n",
      "Epoch: 99, discriminator loss: 1.4113553762435913, generator loss: 0.712633490562439\n",
      "Epoch: 100, discriminator loss: 1.452561378479004, generator loss: 0.6605051755905151\n",
      "Epoch: 101, discriminator loss: 1.411003589630127, generator loss: 0.6902812123298645\n",
      "Epoch: 102, discriminator loss: 1.4286271333694458, generator loss: 0.6826224327087402\n",
      "Epoch: 103, discriminator loss: 1.4132487773895264, generator loss: 0.6835404634475708\n",
      "Epoch: 104, discriminator loss: 1.4055922031402588, generator loss: 0.6867533922195435\n",
      "Epoch: 105, discriminator loss: 1.4175506830215454, generator loss: 0.6855751276016235\n",
      "Epoch: 106, discriminator loss: 1.409461498260498, generator loss: 0.6778180003166199\n",
      "Epoch: 107, discriminator loss: 1.4015467166900635, generator loss: 0.6857460141181946\n",
      "Epoch: 108, discriminator loss: 1.3843936920166016, generator loss: 0.6777673959732056\n",
      "Epoch: 109, discriminator loss: 1.3573319911956787, generator loss: 0.7050169110298157\n",
      "Epoch: 110, discriminator loss: 1.3458940982818604, generator loss: 0.6731265187263489\n",
      "Epoch: 111, discriminator loss: 1.3375604152679443, generator loss: 0.6859185695648193\n",
      "Epoch: 112, discriminator loss: 1.3131424188613892, generator loss: 0.699884295463562\n",
      "Epoch: 113, discriminator loss: 1.2967863082885742, generator loss: 0.6805486679077148\n",
      "Epoch: 114, discriminator loss: 1.314272403717041, generator loss: 0.6434675455093384\n",
      "Epoch: 115, discriminator loss: 1.3880164623260498, generator loss: 0.6434084177017212\n",
      "Epoch: 116, discriminator loss: 1.3805737495422363, generator loss: 0.6873456835746765\n",
      "Epoch: 117, discriminator loss: 1.3868155479431152, generator loss: 0.6831903457641602\n",
      "Epoch: 118, discriminator loss: 1.386300802230835, generator loss: 0.681501567363739\n",
      "Epoch: 119, discriminator loss: 1.3910562992095947, generator loss: 0.6962267756462097\n",
      "Epoch: 120, discriminator loss: 1.382479190826416, generator loss: 0.6858844757080078\n",
      "Epoch: 121, discriminator loss: 1.3772218227386475, generator loss: 0.6842715740203857\n",
      "Epoch: 122, discriminator loss: 1.3702694177627563, generator loss: 0.686972439289093\n",
      "Epoch: 123, discriminator loss: 1.3684356212615967, generator loss: 0.689593493938446\n",
      "Epoch: 124, discriminator loss: 1.3744096755981445, generator loss: 0.6971848607063293\n",
      "Epoch: 125, discriminator loss: 1.371975302696228, generator loss: 0.6889511346817017\n",
      "Epoch: 126, discriminator loss: 1.3864591121673584, generator loss: 0.691472053527832\n",
      "Epoch: 127, discriminator loss: 1.3765950202941895, generator loss: 0.6987218856811523\n",
      "Epoch: 128, discriminator loss: 1.3895573616027832, generator loss: 0.6869107484817505\n",
      "Epoch: 129, discriminator loss: 1.374086618423462, generator loss: 0.6971365213394165\n",
      "Epoch: 130, discriminator loss: 1.3858494758605957, generator loss: 0.6893399953842163\n",
      "Epoch: 131, discriminator loss: 1.3859360218048096, generator loss: 0.693812370300293\n",
      "Epoch: 132, discriminator loss: 1.3856223821640015, generator loss: 0.6862591505050659\n",
      "Epoch: 133, discriminator loss: 1.3906373977661133, generator loss: 0.6891441345214844\n",
      "Epoch: 134, discriminator loss: 1.3923516273498535, generator loss: 0.6898260116577148\n",
      "Epoch: 135, discriminator loss: 1.3803271055221558, generator loss: 0.6964074373245239\n",
      "Epoch: 136, discriminator loss: 1.383007287979126, generator loss: 0.7015231847763062\n",
      "Epoch: 137, discriminator loss: 1.3808069229125977, generator loss: 0.6974490284919739\n",
      "Epoch: 138, discriminator loss: 1.3740410804748535, generator loss: 0.6907822489738464\n",
      "Epoch: 139, discriminator loss: 1.3607490062713623, generator loss: 0.6970834732055664\n",
      "Epoch: 140, discriminator loss: 1.355844259262085, generator loss: 0.6951658129692078\n",
      "Epoch: 141, discriminator loss: 1.3496801853179932, generator loss: 0.6802749037742615\n",
      "Epoch: 142, discriminator loss: 1.3910350799560547, generator loss: 0.67064368724823\n",
      "Epoch: 143, discriminator loss: 1.3803668022155762, generator loss: 0.6717623472213745\n",
      "Epoch: 144, discriminator loss: 1.3985910415649414, generator loss: 0.6656520962715149\n",
      "Epoch: 145, discriminator loss: 1.4075590372085571, generator loss: 0.6786364316940308\n",
      "Epoch: 146, discriminator loss: 1.392134428024292, generator loss: 0.7035955190658569\n",
      "Epoch: 147, discriminator loss: 1.3912575244903564, generator loss: 0.6866703629493713\n",
      "Epoch: 148, discriminator loss: 1.3700604438781738, generator loss: 0.6875330209732056\n",
      "Epoch: 149, discriminator loss: 1.347043752670288, generator loss: 0.6890335083007812\n"
     ]
    },
    {
     "data": {
      "text/plain": [
       "<ganetwork.GAN at 0x11aaef5c0>"
      ]
     },
     "execution_count": 3,
     "metadata": {},
     "output_type": "execute_result"
    }
   ],
   "source": [
    "discriminator_layers=[(4, None), (6, tf.nn.tanh), (3, tf.nn.tanh), (1, None)]\n",
    "generator_layers=[(6, None), (8, tf.nn.tanh), (4, None)]\n",
    "gan = GAN(discriminator_layers, generator_layers)\n",
    "gan.train(X, nb_epoch=150, batch_size=5, discriminator_steps=2)"
   ]
  },
  {
   "cell_type": "code",
   "execution_count": 26,
   "metadata": {
    "collapsed": false
   },
   "outputs": [
    {
     "data": {
      "text/plain": [
       "array([[ 0.43465528,  0.62917566,  0.22024338,  0.07646854],\n",
       "       [ 0.38975796,  0.64655286,  0.15702972,  0.05214508],\n",
       "       [ 0.67966843,  0.51769125,  0.87860888,  0.3727721 ],\n",
       "       [ 0.38710618,  0.6144225 ,  0.12844393,  0.07371825],\n",
       "       [ 0.33691373,  0.66815931,  0.06502483,  0.03886871],\n",
       "       [ 0.56475121,  0.54471171,  0.60469526,  0.50751746],\n",
       "       [ 0.72091293,  0.51996362,  0.94062167,  0.76096272],\n",
       "       [ 0.52807444,  0.61254615,  0.3114976 ,  0.12666638],\n",
       "       [ 0.61809975,  0.49898711,  0.71979576,  0.52737635],\n",
       "       [ 0.44796672,  0.63074929,  0.34337983,  0.07227925]], dtype=float32)"
      ]
     },
     "execution_count": 26,
     "metadata": {},
     "output_type": "execute_result"
    }
   ],
   "source": [
    "gan.generate_samples(10)"
   ]
  },
  {
   "cell_type": "code",
   "execution_count": 53,
   "metadata": {
    "collapsed": false
   },
   "outputs": [
    {
     "data": {
      "text/plain": [
       "<tensorflow.python.client.session.Session at 0x117734d30>"
      ]
     },
     "execution_count": 53,
     "metadata": {},
     "output_type": "execute_result"
    }
   ],
   "source": [
    "GAN.sess"
   ]
  },
  {
   "cell_type": "code",
   "execution_count": 4,
   "metadata": {
    "collapsed": false,
    "deletable": true,
    "editable": true
   },
   "outputs": [
    {
     "name": "stdout",
     "output_type": "stream",
     "text": [
      "Epoch: 0, discriminator loss: 1.8388135433197021, generator loss: 0.22197838127613068\n",
      "Epoch: 1, discriminator loss: 1.7347800731658936, generator loss: 0.26084405183792114\n",
      "Epoch: 2, discriminator loss: 1.645878791809082, generator loss: 0.3028460741043091\n",
      "Epoch: 3, discriminator loss: 1.5836520195007324, generator loss: 0.3411028981208801\n",
      "Epoch: 4, discriminator loss: 1.5391974449157715, generator loss: 0.3736936151981354\n",
      "Epoch: 5, discriminator loss: 1.5077012777328491, generator loss: 0.4034876823425293\n",
      "Epoch: 6, discriminator loss: 1.4826488494873047, generator loss: 0.4292951226234436\n",
      "Epoch: 7, discriminator loss: 1.4611555337905884, generator loss: 0.45460158586502075\n",
      "Epoch: 8, discriminator loss: 1.4470641613006592, generator loss: 0.4766998887062073\n",
      "Epoch: 9, discriminator loss: 1.4348974227905273, generator loss: 0.5005998611450195\n",
      "Epoch: 10, discriminator loss: 1.4244184494018555, generator loss: 0.5186344981193542\n",
      "Epoch: 11, discriminator loss: 1.4145386219024658, generator loss: 0.5418691635131836\n",
      "Epoch: 12, discriminator loss: 1.4108023643493652, generator loss: 0.5568974614143372\n",
      "Epoch: 13, discriminator loss: 1.4058631658554077, generator loss: 0.5761725306510925\n",
      "Epoch: 14, discriminator loss: 1.4017012119293213, generator loss: 0.5924603343009949\n",
      "Epoch: 15, discriminator loss: 1.3974318504333496, generator loss: 0.6028167009353638\n",
      "Epoch: 16, discriminator loss: 1.3937369585037231, generator loss: 0.6187822222709656\n",
      "Epoch: 17, discriminator loss: 1.3921055793762207, generator loss: 0.6307833790779114\n",
      "Epoch: 18, discriminator loss: 1.3921159505844116, generator loss: 0.6398614048957825\n",
      "Epoch: 19, discriminator loss: 1.390592098236084, generator loss: 0.649526834487915\n",
      "Epoch: 20, discriminator loss: 1.3899452686309814, generator loss: 0.6573680639266968\n",
      "Epoch: 21, discriminator loss: 1.3890374898910522, generator loss: 0.6633298993110657\n",
      "Epoch: 22, discriminator loss: 1.3878257274627686, generator loss: 0.669718861579895\n",
      "Epoch: 23, discriminator loss: 1.3874998092651367, generator loss: 0.6727892756462097\n",
      "Epoch: 24, discriminator loss: 1.387483835220337, generator loss: 0.6781433820724487\n",
      "Epoch: 25, discriminator loss: 1.3877605199813843, generator loss: 0.6813702583312988\n",
      "Epoch: 26, discriminator loss: 1.387751817703247, generator loss: 0.6846166253089905\n",
      "Epoch: 27, discriminator loss: 1.3878092765808105, generator loss: 0.6870187520980835\n",
      "Epoch: 28, discriminator loss: 1.3870983123779297, generator loss: 0.6900094151496887\n",
      "Epoch: 29, discriminator loss: 1.3873265981674194, generator loss: 0.6924841403961182\n",
      "Epoch: 30, discriminator loss: 1.3870130777359009, generator loss: 0.6957373023033142\n",
      "Epoch: 31, discriminator loss: 1.3877313137054443, generator loss: 0.6976093053817749\n",
      "Epoch: 32, discriminator loss: 1.3877851963043213, generator loss: 0.7010655403137207\n",
      "Epoch: 33, discriminator loss: 1.3875393867492676, generator loss: 0.7055876851081848\n",
      "Epoch: 34, discriminator loss: 1.388326644897461, generator loss: 0.7109994292259216\n",
      "Epoch: 35, discriminator loss: 1.3883322477340698, generator loss: 0.716943085193634\n",
      "Epoch: 36, discriminator loss: 1.3882739543914795, generator loss: 0.7200391888618469\n",
      "Epoch: 37, discriminator loss: 1.388533353805542, generator loss: 0.7215293049812317\n",
      "Epoch: 38, discriminator loss: 1.3881893157958984, generator loss: 0.7209798097610474\n",
      "Epoch: 39, discriminator loss: 1.3881245851516724, generator loss: 0.7198187112808228\n",
      "Epoch: 40, discriminator loss: 1.3877211809158325, generator loss: 0.7178000211715698\n",
      "Epoch: 41, discriminator loss: 1.387345314025879, generator loss: 0.7153029441833496\n",
      "Epoch: 42, discriminator loss: 1.3872159719467163, generator loss: 0.7127764225006104\n",
      "Epoch: 43, discriminator loss: 1.3871304988861084, generator loss: 0.7103739976882935\n",
      "Epoch: 44, discriminator loss: 1.3869256973266602, generator loss: 0.7080639004707336\n",
      "Epoch: 45, discriminator loss: 1.386850118637085, generator loss: 0.7060168385505676\n",
      "Epoch: 46, discriminator loss: 1.38679838180542, generator loss: 0.7042255401611328\n",
      "Epoch: 47, discriminator loss: 1.3867278099060059, generator loss: 0.7027059197425842\n",
      "Epoch: 48, discriminator loss: 1.386713981628418, generator loss: 0.7014990448951721\n",
      "Epoch: 49, discriminator loss: 1.3866530656814575, generator loss: 0.7003843188285828\n"
     ]
    }
   ],
   "source": [
    "discriminator_layers=[(7, None), (8, tf.nn.tanh), (3, tf.nn.softmax), (1, None)]\n",
    "generator_layers=[(9, None), (5, tf.nn.tanh), (4, None)]\n",
    "cgan = CGAN(discriminator_layers, generator_layers)\n",
    "cgan.train(X, y, nb_epoch=50, batch_size=5)"
   ]
  },
  {
   "cell_type": "code",
   "execution_count": null,
   "metadata": {
    "collapsed": true
   },
   "outputs": [],
   "source": []
  }
 ],
 "metadata": {
  "kernelspec": {
   "display_name": "Python 3",
   "language": "python",
   "name": "python3"
  },
  "language_info": {
   "codemirror_mode": {
    "name": "ipython",
    "version": 3
   },
   "file_extension": ".py",
   "mimetype": "text/x-python",
   "name": "python",
   "nbconvert_exporter": "python",
   "pygments_lexer": "ipython3",
   "version": "3.6.0"
  }
 },
 "nbformat": 4,
 "nbformat_minor": 2
}
