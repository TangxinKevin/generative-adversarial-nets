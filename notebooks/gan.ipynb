{
 "cells": [
  {
   "cell_type": "code",
   "execution_count": 1,
   "metadata": {
    "collapsed": false,
    "deletable": true,
    "editable": true
   },
   "outputs": [
    {
     "name": "stderr",
     "output_type": "stream",
     "text": [
      "Using TensorFlow backend.\n"
     ]
    }
   ],
   "source": [
    "import sys\n",
    "import numpy as np\n",
    "from keras.models import Sequential\n",
    "from keras.layers import Dense\n",
    "from keras.layers.core import Activation\n",
    "from sklearn import datasets\n",
    "from sklearn.preprocessing import minmax_scale, LabelBinarizer\n",
    "sys.path.append('../../generative-adversarial-nets')\n",
    "from ganetwork import GAN, CGAN"
   ]
  },
  {
   "cell_type": "code",
   "execution_count": 2,
   "metadata": {
    "collapsed": false,
    "deletable": true,
    "editable": true
   },
   "outputs": [],
   "source": [
    "ds = datasets.load_iris()\n",
    "X, y = minmax_scale(ds.data), LabelBinarizer().fit_transform(ds.target)"
   ]
  },
  {
   "cell_type": "code",
   "execution_count": 3,
   "metadata": {
    "collapsed": false,
    "deletable": true,
    "editable": true
   },
   "outputs": [
    {
     "name": "stdout",
     "output_type": "stream",
     "text": [
      "Epoch 0, d_loss: 0.707718, g_loss: 0.656318\n",
      "Epoch 1, d_loss: 0.722398, g_loss: 0.674569\n",
      "Epoch 2, d_loss: 0.702905, g_loss: 0.688403\n",
      "Epoch 3, d_loss: 0.663163, g_loss: 0.690247\n",
      "Epoch 4, d_loss: 0.639798, g_loss: 0.716955\n",
      "Epoch 5, d_loss: 0.695569, g_loss: 0.654570\n",
      "Epoch 6, d_loss: 0.708293, g_loss: 0.646714\n",
      "Epoch 7, d_loss: 0.700645, g_loss: 0.696907\n",
      "Epoch 8, d_loss: 0.684038, g_loss: 0.697009\n",
      "Epoch 9, d_loss: 0.703230, g_loss: 0.720268\n"
     ]
    }
   ],
   "source": [
    "gan_generator = Sequential([\n",
    "    Dense(input_dim=10, output_dim=20),\n",
    "    Activation('tanh'),\n",
    "    Dense(output_dim=10),\n",
    "    Activation('tanh'),\n",
    "    Dense(output_dim=X.shape[1]),\n",
    "    Activation('sigmoid')\n",
    "])\n",
    "\n",
    "gan_discriminator = Sequential([\n",
    "    Dense(input_dim=X.shape[1], output_dim=20),\n",
    "    Activation('tanh'),\n",
    "    Dense(output_dim=10),\n",
    "    Activation('tanh'),\n",
    "    Dense(1),\n",
    "    Activation('sigmoid')\n",
    "])\n",
    "\n",
    "gan = GAN(gan_generator, gan_discriminator)\n",
    "gan.train(X, nb_epoch=10, batch_size=5, verbose=1)"
   ]
  },
  {
   "cell_type": "code",
   "execution_count": null,
   "metadata": {
    "collapsed": true
   },
   "outputs": [],
   "source": [
    "cgan_generator = Sequential([\n",
    "    Dense(input_dim=10, output_dim=20),\n",
    "    Activation('tanh'),\n",
    "    Dense(output_dim=10),\n",
    "    Activation('tanh'),\n",
    "    Dense(output_dim=X.shape[1]),\n",
    "    Activation('sigmoid')\n",
    "])\n",
    "\n",
    "cgan_discriminator = Sequential([\n",
    "    Dense(input_dim=(X.shape[1] + y.shape[1]), output_dim=20),\n",
    "    Activation('tanh'),\n",
    "    Dense(output_dim=10),\n",
    "    Activation('tanh'),\n",
    "    Dense(1),\n",
    "    Activation('sigmoid')\n",
    "])\n",
    "\n",
    "cgan = CGAN(cgan_generator, cgan_discriminator)\n",
    "cgan.train(X, y, nb_epoch=10, batch_size=5, verbose=1)"
   ]
  }
 ],
 "metadata": {
  "kernelspec": {
   "display_name": "Python 3",
   "language": "python",
   "name": "python3"
  },
  "language_info": {
   "codemirror_mode": {
    "name": "ipython",
    "version": 3
   },
   "file_extension": ".py",
   "mimetype": "text/x-python",
   "name": "python",
   "nbconvert_exporter": "python",
   "pygments_lexer": "ipython3",
   "version": "3.6.0"
  }
 },
 "nbformat": 4,
 "nbformat_minor": 2
}
