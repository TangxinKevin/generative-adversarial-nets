{
 "cells": [
  {
   "cell_type": "code",
   "execution_count": 1,
   "metadata": {
    "collapsed": false,
    "deletable": true,
    "editable": true
   },
   "outputs": [],
   "source": [
    "import sys\n",
    "import tensorflow as tf\n",
    "sys.path.append('../../generative-adversarial-nets/')\n",
    "from ganetwork import GAN, CGAN\n",
    "from sklearn import datasets\n",
    "from sklearn.preprocessing import minmax_scale, LabelBinarizer"
   ]
  },
  {
   "cell_type": "code",
   "execution_count": 2,
   "metadata": {
    "collapsed": false,
    "deletable": true,
    "editable": true
   },
   "outputs": [],
   "source": [
    "ds = datasets.load_iris()\n",
    "X, y = minmax_scale(ds.data), LabelBinarizer().fit_transform(ds.target)"
   ]
  },
  {
   "cell_type": "code",
   "execution_count": 3,
   "metadata": {
    "collapsed": false,
    "deletable": true,
    "editable": true
   },
   "outputs": [
    {
     "name": "stdout",
     "output_type": "stream",
     "text": [
      "Epoch: 0, discriminator loss: 1.4024484157562256, generator loss: 0.5729442834854126\n",
      "Epoch: 1, discriminator loss: 1.3899049758911133, generator loss: 0.6406246423721313\n",
      "Epoch: 2, discriminator loss: 1.3900309801101685, generator loss: 0.6707156896591187\n",
      "Epoch: 3, discriminator loss: 1.397815227508545, generator loss: 0.6935044527053833\n",
      "Epoch: 4, discriminator loss: 1.4008744955062866, generator loss: 0.6928763389587402\n",
      "Epoch: 5, discriminator loss: 1.4091665744781494, generator loss: 0.6804187297821045\n",
      "Epoch: 6, discriminator loss: 1.4003655910491943, generator loss: 0.6846488118171692\n",
      "Epoch: 7, discriminator loss: 1.3969646692276, generator loss: 0.6870303750038147\n",
      "Epoch: 8, discriminator loss: 1.3992950916290283, generator loss: 0.6859229207038879\n",
      "Epoch: 9, discriminator loss: 1.3931716680526733, generator loss: 0.6898093223571777\n",
      "Epoch: 10, discriminator loss: 1.3834271430969238, generator loss: 0.6859794855117798\n",
      "Epoch: 11, discriminator loss: 1.3806657791137695, generator loss: 0.6854345798492432\n",
      "Epoch: 12, discriminator loss: 1.3830761909484863, generator loss: 0.6872552633285522\n",
      "Epoch: 13, discriminator loss: 1.3808282613754272, generator loss: 0.6897916793823242\n",
      "Epoch: 14, discriminator loss: 1.3821138143539429, generator loss: 0.6888270378112793\n",
      "Epoch: 15, discriminator loss: 1.3780598640441895, generator loss: 0.6916148662567139\n",
      "Epoch: 16, discriminator loss: 1.381720781326294, generator loss: 0.6906433701515198\n",
      "Epoch: 17, discriminator loss: 1.3651312589645386, generator loss: 0.6988579630851746\n",
      "Epoch: 18, discriminator loss: 1.3710668087005615, generator loss: 0.6826953887939453\n",
      "Epoch: 19, discriminator loss: 1.3719614744186401, generator loss: 0.6677383780479431\n",
      "Epoch: 20, discriminator loss: 1.3908580541610718, generator loss: 0.682181715965271\n",
      "Epoch: 21, discriminator loss: 1.390735387802124, generator loss: 0.6933053731918335\n",
      "Epoch: 22, discriminator loss: 1.3910237550735474, generator loss: 0.694206714630127\n",
      "Epoch: 23, discriminator loss: 1.3899933099746704, generator loss: 0.6955130696296692\n",
      "Epoch: 24, discriminator loss: 1.3910564184188843, generator loss: 0.6909776329994202\n",
      "Epoch: 25, discriminator loss: 1.3954195976257324, generator loss: 0.6967262029647827\n",
      "Epoch: 26, discriminator loss: 1.3986990451812744, generator loss: 0.7024402618408203\n",
      "Epoch: 27, discriminator loss: 1.3907136917114258, generator loss: 0.6967501044273376\n",
      "Epoch: 28, discriminator loss: 1.3953423500061035, generator loss: 0.6899758577346802\n",
      "Epoch: 29, discriminator loss: 1.3976404666900635, generator loss: 0.6957870721817017\n",
      "Epoch: 30, discriminator loss: 1.4061073064804077, generator loss: 0.6834362745285034\n",
      "Epoch: 31, discriminator loss: 1.3992233276367188, generator loss: 0.686266303062439\n",
      "Epoch: 32, discriminator loss: 1.3915016651153564, generator loss: 0.6943827867507935\n",
      "Epoch: 33, discriminator loss: 1.3861916065216064, generator loss: 0.6914286017417908\n",
      "Epoch: 34, discriminator loss: 1.3756310939788818, generator loss: 0.6861099004745483\n",
      "Epoch: 35, discriminator loss: 1.3515474796295166, generator loss: 0.6775521039962769\n",
      "Epoch: 36, discriminator loss: 1.3424956798553467, generator loss: 0.6859272718429565\n",
      "Epoch: 37, discriminator loss: 1.351266622543335, generator loss: 0.7104242444038391\n",
      "Epoch: 38, discriminator loss: 1.3587546348571777, generator loss: 0.7284098267555237\n",
      "Epoch: 39, discriminator loss: 1.371309518814087, generator loss: 0.7001146674156189\n",
      "Epoch: 40, discriminator loss: 1.3757925033569336, generator loss: 0.6992186307907104\n",
      "Epoch: 41, discriminator loss: 1.390753984451294, generator loss: 0.7071645259857178\n",
      "Epoch: 42, discriminator loss: 1.3841331005096436, generator loss: 0.6947303414344788\n",
      "Epoch: 43, discriminator loss: 1.3853089809417725, generator loss: 0.6915788650512695\n",
      "Epoch: 44, discriminator loss: 1.3870344161987305, generator loss: 0.6929563879966736\n",
      "Epoch: 45, discriminator loss: 1.3885456323623657, generator loss: 0.6952733397483826\n",
      "Epoch: 46, discriminator loss: 1.3864235877990723, generator loss: 0.6944159269332886\n",
      "Epoch: 47, discriminator loss: 1.386662483215332, generator loss: 0.6947906613349915\n",
      "Epoch: 48, discriminator loss: 1.3884674310684204, generator loss: 0.6939483880996704\n",
      "Epoch: 49, discriminator loss: 1.3877348899841309, generator loss: 0.6961496472358704\n"
     ]
    }
   ],
   "source": [
    "discriminator_layers=[(4, None), (8, tf.nn.tanh), (3, tf.nn.softmax), (1, None)]\n",
    "generator_layers=[(6, None), (5, tf.nn.tanh), (4, None)]\n",
    "gan = GAN(discriminator_layers, generator_layers)\n",
    "gan.train(X, nb_epoch=50, batch_size=5, discriminator_steps=3)"
   ]
  },
  {
   "cell_type": "code",
   "execution_count": 4,
   "metadata": {
    "collapsed": false,
    "deletable": true,
    "editable": true
   },
   "outputs": [
    {
     "name": "stdout",
     "output_type": "stream",
     "text": [
      "Epoch: 0, discriminator loss: 1.904671311378479, generator loss: 0.20133432745933533\n",
      "Epoch: 1, discriminator loss: 1.8282910585403442, generator loss: 0.2253890037536621\n",
      "Epoch: 2, discriminator loss: 1.7215604782104492, generator loss: 0.2670222818851471\n",
      "Epoch: 3, discriminator loss: 1.6061646938323975, generator loss: 0.32706597447395325\n",
      "Epoch: 4, discriminator loss: 1.5293996334075928, generator loss: 0.3813930153846741\n",
      "Epoch: 5, discriminator loss: 1.4856481552124023, generator loss: 0.424365371465683\n",
      "Epoch: 6, discriminator loss: 1.462916612625122, generator loss: 0.4516311585903168\n",
      "Epoch: 7, discriminator loss: 1.4430131912231445, generator loss: 0.48590660095214844\n",
      "Epoch: 8, discriminator loss: 1.4309736490249634, generator loss: 0.5084179639816284\n",
      "Epoch: 9, discriminator loss: 1.4216632843017578, generator loss: 0.5383267998695374\n",
      "Epoch: 10, discriminator loss: 1.4259769916534424, generator loss: 0.543580174446106\n",
      "Epoch: 11, discriminator loss: 1.406829833984375, generator loss: 0.5783270597457886\n",
      "Epoch: 12, discriminator loss: 1.3990838527679443, generator loss: 0.5892696380615234\n",
      "Epoch: 13, discriminator loss: 1.4065093994140625, generator loss: 0.6073096990585327\n",
      "Epoch: 14, discriminator loss: 1.4041507244110107, generator loss: 0.6387120485305786\n",
      "Epoch: 15, discriminator loss: 1.3941961526870728, generator loss: 0.6554617881774902\n",
      "Epoch: 16, discriminator loss: 1.4080711603164673, generator loss: 0.6745102405548096\n",
      "Epoch: 17, discriminator loss: 1.4045460224151611, generator loss: 0.6873174905776978\n",
      "Epoch: 18, discriminator loss: 1.3900315761566162, generator loss: 0.693761944770813\n",
      "Epoch: 19, discriminator loss: 1.3936007022857666, generator loss: 0.7035147547721863\n",
      "Epoch: 20, discriminator loss: 1.394791603088379, generator loss: 0.7080386877059937\n",
      "Epoch: 21, discriminator loss: 1.3956984281539917, generator loss: 0.717375636100769\n",
      "Epoch: 22, discriminator loss: 1.3923379182815552, generator loss: 0.7215610146522522\n",
      "Epoch: 23, discriminator loss: 1.3941915035247803, generator loss: 0.7239421010017395\n",
      "Epoch: 24, discriminator loss: 1.3940861225128174, generator loss: 0.7234730124473572\n",
      "Epoch: 25, discriminator loss: 1.3929857015609741, generator loss: 0.722223699092865\n",
      "Epoch: 26, discriminator loss: 1.3919427394866943, generator loss: 0.7225638628005981\n",
      "Epoch: 27, discriminator loss: 1.3925451040267944, generator loss: 0.7202131152153015\n",
      "Epoch: 28, discriminator loss: 1.3912885189056396, generator loss: 0.7185037732124329\n",
      "Epoch: 29, discriminator loss: 1.3905062675476074, generator loss: 0.7167199850082397\n",
      "Epoch: 30, discriminator loss: 1.3906357288360596, generator loss: 0.7153266668319702\n",
      "Epoch: 31, discriminator loss: 1.3901710510253906, generator loss: 0.7144395112991333\n",
      "Epoch: 32, discriminator loss: 1.3891749382019043, generator loss: 0.7109934091567993\n",
      "Epoch: 33, discriminator loss: 1.3890507221221924, generator loss: 0.7089220881462097\n",
      "Epoch: 34, discriminator loss: 1.3891816139221191, generator loss: 0.7072927951812744\n",
      "Epoch: 35, discriminator loss: 1.3887079954147339, generator loss: 0.7064053416252136\n",
      "Epoch: 36, discriminator loss: 1.3879053592681885, generator loss: 0.7050408720970154\n",
      "Epoch: 37, discriminator loss: 1.388439416885376, generator loss: 0.7038840055465698\n",
      "Epoch: 38, discriminator loss: 1.388087511062622, generator loss: 0.7025462985038757\n",
      "Epoch: 39, discriminator loss: 1.3875763416290283, generator loss: 0.7021272778511047\n",
      "Epoch: 40, discriminator loss: 1.3876698017120361, generator loss: 0.7014232873916626\n",
      "Epoch: 41, discriminator loss: 1.3867771625518799, generator loss: 0.6999228000640869\n",
      "Epoch: 42, discriminator loss: 1.3875782489776611, generator loss: 0.6995573043823242\n",
      "Epoch: 43, discriminator loss: 1.3876075744628906, generator loss: 0.6992979049682617\n",
      "Epoch: 44, discriminator loss: 1.3875913619995117, generator loss: 0.6986175775527954\n",
      "Epoch: 45, discriminator loss: 1.3872644901275635, generator loss: 0.6980470418930054\n",
      "Epoch: 46, discriminator loss: 1.3872714042663574, generator loss: 0.6975575685501099\n",
      "Epoch: 47, discriminator loss: 1.3872849941253662, generator loss: 0.6976905465126038\n",
      "Epoch: 48, discriminator loss: 1.3872382640838623, generator loss: 0.6970474720001221\n",
      "Epoch: 49, discriminator loss: 1.3873357772827148, generator loss: 0.6972174644470215\n"
     ]
    }
   ],
   "source": [
    "discriminator_layers=[(7, None), (8, tf.nn.tanh), (3, tf.nn.softmax), (1, None)]\n",
    "generator_layers=[(9, None), (5, tf.nn.tanh), (4, None)]\n",
    "cgan = CGAN(discriminator_layers, generator_layers)\n",
    "cgan.train(X, y, nb_epoch=50, batch_size=5)"
   ]
  }
 ],
 "metadata": {
  "kernelspec": {
   "display_name": "Python 3",
   "language": "python",
   "name": "python3"
  },
  "language_info": {
   "codemirror_mode": {
    "name": "ipython",
    "version": 3
   },
   "file_extension": ".py",
   "mimetype": "text/x-python",
   "name": "python",
   "nbconvert_exporter": "python",
   "pygments_lexer": "ipython3",
   "version": "3.6.0"
  }
 },
 "nbformat": 4,
 "nbformat_minor": 2
}
