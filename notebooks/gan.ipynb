{
 "cells": [
  {
   "cell_type": "code",
   "execution_count": 1,
   "metadata": {
    "collapsed": false,
    "deletable": true,
    "editable": true
   },
   "outputs": [],
   "source": [
    "import sys\n",
    "import tensorflow as tf\n",
    "sys.path.append('../../generative-adversarial-nets/')\n",
    "from ganetwork import GAN, CGAN\n",
    "from sklearn import datasets\n",
    "from sklearn.preprocessing import minmax_scale, LabelBinarizer"
   ]
  },
  {
   "cell_type": "code",
   "execution_count": 2,
   "metadata": {
    "collapsed": false,
    "deletable": true,
    "editable": true
   },
   "outputs": [],
   "source": [
    "ds = datasets.load_iris()\n",
    "X, y = minmax_scale(ds.data), LabelBinarizer().fit_transform(ds.target)"
   ]
  },
  {
   "cell_type": "code",
   "execution_count": 3,
   "metadata": {
    "collapsed": false,
    "deletable": true,
    "editable": true
   },
   "outputs": [
    {
     "name": "stdout",
     "output_type": "stream",
     "text": [
      "Epoch: 0, discriminator loss: 1.6425416469573975, generator loss: 0.3051425814628601\n",
      "Epoch: 1, discriminator loss: 1.5637255907058716, generator loss: 0.3560844957828522\n",
      "Epoch: 2, discriminator loss: 1.4890048503875732, generator loss: 0.4240081310272217\n",
      "Epoch: 3, discriminator loss: 1.4099189043045044, generator loss: 0.4973537027835846\n",
      "Epoch: 4, discriminator loss: 1.415370225906372, generator loss: 0.550670862197876\n",
      "Epoch: 5, discriminator loss: 1.4028018712997437, generator loss: 0.5988228917121887\n",
      "Epoch: 6, discriminator loss: 1.401627779006958, generator loss: 0.6238316893577576\n",
      "Epoch: 7, discriminator loss: 1.3775824308395386, generator loss: 0.5924467444419861\n",
      "Epoch: 8, discriminator loss: 1.4147884845733643, generator loss: 0.6264958381652832\n",
      "Epoch: 9, discriminator loss: 1.4046789407730103, generator loss: 0.6062267422676086\n",
      "Epoch: 10, discriminator loss: 1.414916753768921, generator loss: 0.6359939575195312\n",
      "Epoch: 11, discriminator loss: 1.3779041767120361, generator loss: 0.6661258935928345\n",
      "Epoch: 12, discriminator loss: 1.4081571102142334, generator loss: 0.6554362177848816\n",
      "Epoch: 13, discriminator loss: 1.4094507694244385, generator loss: 0.6836015582084656\n",
      "Epoch: 14, discriminator loss: 1.4117200374603271, generator loss: 0.6742798089981079\n",
      "Epoch: 15, discriminator loss: 1.3986992835998535, generator loss: 0.6688569188117981\n",
      "Epoch: 16, discriminator loss: 1.3975307941436768, generator loss: 0.6831828355789185\n",
      "Epoch: 17, discriminator loss: 1.3548623323440552, generator loss: 0.6736193895339966\n",
      "Epoch: 18, discriminator loss: 1.3777860403060913, generator loss: 0.6708241105079651\n",
      "Epoch: 19, discriminator loss: 1.3836047649383545, generator loss: 0.6709668040275574\n",
      "Epoch: 20, discriminator loss: 1.4138504266738892, generator loss: 0.6815243363380432\n",
      "Epoch: 21, discriminator loss: 1.418164849281311, generator loss: 0.6739832162857056\n",
      "Epoch: 22, discriminator loss: 1.3923096656799316, generator loss: 0.6795745491981506\n",
      "Epoch: 23, discriminator loss: 1.386783480644226, generator loss: 0.683702826499939\n",
      "Epoch: 24, discriminator loss: 1.380122184753418, generator loss: 0.6735080480575562\n",
      "Epoch: 25, discriminator loss: 1.3799798488616943, generator loss: 0.6847200989723206\n",
      "Epoch: 26, discriminator loss: 1.3860363960266113, generator loss: 0.7052221298217773\n",
      "Epoch: 27, discriminator loss: 1.4214985370635986, generator loss: 0.6847262382507324\n",
      "Epoch: 28, discriminator loss: 1.2979509830474854, generator loss: 0.625565767288208\n",
      "Epoch: 29, discriminator loss: 1.344341516494751, generator loss: 0.6825764775276184\n",
      "Epoch: 30, discriminator loss: 1.3713774681091309, generator loss: 0.6098068356513977\n",
      "Epoch: 31, discriminator loss: 1.3326491117477417, generator loss: 0.6838490962982178\n",
      "Epoch: 32, discriminator loss: 1.3924264907836914, generator loss: 0.7099004983901978\n",
      "Epoch: 33, discriminator loss: 1.4011799097061157, generator loss: 0.7343016862869263\n",
      "Epoch: 34, discriminator loss: 1.3761918544769287, generator loss: 0.683504581451416\n",
      "Epoch: 35, discriminator loss: 1.3870795965194702, generator loss: 0.724908709526062\n",
      "Epoch: 36, discriminator loss: 1.383119821548462, generator loss: 0.7276151180267334\n",
      "Epoch: 37, discriminator loss: 1.3606024980545044, generator loss: 0.7365859150886536\n",
      "Epoch: 38, discriminator loss: 1.3966538906097412, generator loss: 0.7060697674751282\n",
      "Epoch: 39, discriminator loss: 1.3913564682006836, generator loss: 0.7386804819107056\n",
      "Epoch: 40, discriminator loss: 1.390939474105835, generator loss: 0.7273795008659363\n",
      "Epoch: 41, discriminator loss: 1.3907318115234375, generator loss: 0.7133342623710632\n",
      "Epoch: 42, discriminator loss: 1.4041953086853027, generator loss: 0.7046849131584167\n",
      "Epoch: 43, discriminator loss: 1.3945821523666382, generator loss: 0.7094851732254028\n",
      "Epoch: 44, discriminator loss: 1.3711007833480835, generator loss: 0.7065814733505249\n",
      "Epoch: 45, discriminator loss: 1.3843162059783936, generator loss: 0.7027174830436707\n",
      "Epoch: 46, discriminator loss: 1.3861212730407715, generator loss: 0.6989955902099609\n",
      "Epoch: 47, discriminator loss: 1.3861310482025146, generator loss: 0.7006179094314575\n",
      "Epoch: 48, discriminator loss: 1.387052297592163, generator loss: 0.6992285847663879\n",
      "Epoch: 49, discriminator loss: 1.38352370262146, generator loss: 0.6995996832847595\n"
     ]
    }
   ],
   "source": [
    "discriminator_layers=[(4, None), (8, tf.nn.tanh), (3, tf.nn.softmax), (1, None)]\n",
    "generator_layers=[(6, None), (5, tf.nn.tanh), (4, None)]\n",
    "gan = GAN(discriminator_layers, generator_layers)\n",
    "gan.train(X, nb_epoch=50, batch_size=5)"
   ]
  },
  {
   "cell_type": "code",
   "execution_count": 4,
   "metadata": {
    "collapsed": false,
    "deletable": true,
    "editable": true
   },
   "outputs": [
    {
     "name": "stdout",
     "output_type": "stream",
     "text": [
      "Epoch: 0, discriminator loss: 1.585523247718811, generator loss: 0.3390282690525055\n",
      "Epoch: 1, discriminator loss: 1.5180755853652954, generator loss: 0.3921923041343689\n",
      "Epoch: 2, discriminator loss: 1.466070294380188, generator loss: 0.44621700048446655\n",
      "Epoch: 3, discriminator loss: 1.4237420558929443, generator loss: 0.49713078141212463\n",
      "Epoch: 4, discriminator loss: 1.3976385593414307, generator loss: 0.5310805439949036\n",
      "Epoch: 5, discriminator loss: 1.3913769721984863, generator loss: 0.5751379132270813\n",
      "Epoch: 6, discriminator loss: 1.3661918640136719, generator loss: 0.5927526354789734\n",
      "Epoch: 7, discriminator loss: 1.3652268648147583, generator loss: 0.6385265588760376\n",
      "Epoch: 8, discriminator loss: 1.3417384624481201, generator loss: 0.6637088656425476\n",
      "Epoch: 9, discriminator loss: 1.3709561824798584, generator loss: 0.676974892616272\n",
      "Epoch: 10, discriminator loss: 1.4059549570083618, generator loss: 0.6972790956497192\n",
      "Epoch: 11, discriminator loss: 1.4187963008880615, generator loss: 0.6990750432014465\n",
      "Epoch: 12, discriminator loss: 1.3514933586120605, generator loss: 0.6847618222236633\n",
      "Epoch: 13, discriminator loss: 1.3579492568969727, generator loss: 0.5756847858428955\n",
      "Epoch: 14, discriminator loss: 1.3305950164794922, generator loss: 0.6345081329345703\n",
      "Epoch: 15, discriminator loss: 1.3650474548339844, generator loss: 0.7118169069290161\n",
      "Epoch: 16, discriminator loss: 1.3972487449645996, generator loss: 0.7327548265457153\n",
      "Epoch: 17, discriminator loss: 1.3898142576217651, generator loss: 0.6985055804252625\n",
      "Epoch: 18, discriminator loss: 1.396313190460205, generator loss: 0.7067756652832031\n",
      "Epoch: 19, discriminator loss: 1.38761305809021, generator loss: 0.6861742734909058\n",
      "Epoch: 20, discriminator loss: 1.390427589416504, generator loss: 0.6868879199028015\n",
      "Epoch: 21, discriminator loss: 1.3720061779022217, generator loss: 0.6870866417884827\n",
      "Epoch: 22, discriminator loss: 1.3988087177276611, generator loss: 0.6574749946594238\n",
      "Epoch: 23, discriminator loss: 1.404738426208496, generator loss: 0.6827916502952576\n",
      "Epoch: 24, discriminator loss: 1.3916770219802856, generator loss: 0.7152805328369141\n",
      "Epoch: 25, discriminator loss: 1.3991225957870483, generator loss: 0.7112163305282593\n",
      "Epoch: 26, discriminator loss: 1.388974666595459, generator loss: 0.7387661933898926\n",
      "Epoch: 27, discriminator loss: 1.3963286876678467, generator loss: 0.7084692716598511\n",
      "Epoch: 28, discriminator loss: 1.3881728649139404, generator loss: 0.7291996479034424\n",
      "Epoch: 29, discriminator loss: 1.3937712907791138, generator loss: 0.6858949661254883\n",
      "Epoch: 30, discriminator loss: 1.4029390811920166, generator loss: 0.6580365300178528\n",
      "Epoch: 31, discriminator loss: 1.3885656595230103, generator loss: 0.703783392906189\n",
      "Epoch: 32, discriminator loss: 1.3897645473480225, generator loss: 0.6923782229423523\n",
      "Epoch: 33, discriminator loss: 1.3867989778518677, generator loss: 0.6926767230033875\n",
      "Epoch: 34, discriminator loss: 1.3846848011016846, generator loss: 0.6851876974105835\n",
      "Epoch: 35, discriminator loss: 1.3810815811157227, generator loss: 0.6776083707809448\n",
      "Epoch: 36, discriminator loss: 1.3738195896148682, generator loss: 0.6858334541320801\n",
      "Epoch: 37, discriminator loss: 1.3598723411560059, generator loss: 0.7074877023696899\n",
      "Epoch: 38, discriminator loss: 1.2984217405319214, generator loss: 0.6916775703430176\n",
      "Epoch: 39, discriminator loss: 1.2289799451828003, generator loss: 0.7112248539924622\n",
      "Epoch: 40, discriminator loss: 1.2384247779846191, generator loss: 0.6021093130111694\n",
      "Epoch: 41, discriminator loss: 1.298982858657837, generator loss: 0.6430946588516235\n",
      "Epoch: 42, discriminator loss: 1.2838431596755981, generator loss: 0.5614485144615173\n",
      "Epoch: 43, discriminator loss: 1.3912112712860107, generator loss: 0.6472127437591553\n",
      "Epoch: 44, discriminator loss: 1.4331798553466797, generator loss: 0.7082249522209167\n",
      "Epoch: 45, discriminator loss: 1.3534350395202637, generator loss: 0.6159666776657104\n",
      "Epoch: 46, discriminator loss: 1.293350338935852, generator loss: 0.8052942156791687\n",
      "Epoch: 47, discriminator loss: 1.2797796726226807, generator loss: 0.7029397487640381\n",
      "Epoch: 48, discriminator loss: 1.3949394226074219, generator loss: 0.6990730166435242\n",
      "Epoch: 49, discriminator loss: 1.3882770538330078, generator loss: 0.7815319299697876\n"
     ]
    }
   ],
   "source": [
    "discriminator_layers=[(7, None), (8, tf.nn.tanh), (3, tf.nn.softmax), (1, None)]\n",
    "generator_layers=[(9, None), (5, tf.nn.tanh), (4, None)]\n",
    "cgan = CGAN(discriminator_layers, generator_layers)\n",
    "cgan.train(X, y, nb_epoch=50, batch_size=5)"
   ]
  }
 ],
 "metadata": {
  "kernelspec": {
   "display_name": "Python 3",
   "language": "python",
   "name": "python3"
  },
  "language_info": {
   "codemirror_mode": {
    "name": "ipython",
    "version": 3
   },
   "file_extension": ".py",
   "mimetype": "text/x-python",
   "name": "python",
   "nbconvert_exporter": "python",
   "pygments_lexer": "ipython3",
   "version": "3.6.0"
  }
 },
 "nbformat": 4,
 "nbformat_minor": 2
}
