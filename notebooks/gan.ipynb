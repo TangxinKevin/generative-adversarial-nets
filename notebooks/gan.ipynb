{
 "cells": [
  {
   "cell_type": "code",
   "execution_count": 1,
   "metadata": {
    "collapsed": false,
    "deletable": true,
    "editable": true
   },
   "outputs": [],
   "source": [
    "import sys\n",
    "import tensorflow as tf\n",
    "sys.path.append('../../generative-adversarial-nets/')\n",
    "from ganetwork import GAN, CGAN\n",
    "from sklearn import datasets\n",
    "from sklearn.preprocessing import minmax_scale, LabelBinarizer"
   ]
  },
  {
   "cell_type": "code",
   "execution_count": 2,
   "metadata": {
    "collapsed": false,
    "deletable": true,
    "editable": true
   },
   "outputs": [],
   "source": [
    "ds = datasets.load_iris()\n",
    "X, y = minmax_scale(ds.data), LabelBinarizer().fit_transform(ds.target)"
   ]
  },
  {
   "cell_type": "code",
   "execution_count": null,
   "metadata": {
    "collapsed": false,
    "deletable": true,
    "editable": true
   },
   "outputs": [],
   "source": [
    "discriminator_layers=[(4, None), (8, tf.nn.tanh), (3, tf.nn.softmax), (1, None)]\n",
    "generator_layers=[(6, None), (5, tf.nn.tanh), (4, None)]\n",
    "gan = GAN(discriminator_layers, generator_layers)\n",
    "gan.train(X, nb_epoch=50, batch_size=5)"
   ]
  },
  {
   "cell_type": "code",
   "execution_count": 3,
   "metadata": {
    "collapsed": true,
    "deletable": true,
    "editable": true
   },
   "outputs": [],
   "source": [
    "discriminator_layers=[(7, None), (8, tf.nn.tanh), (3, tf.nn.softmax), (1, None)]\n",
    "generator_layers=[(9, None), (5, tf.nn.tanh), (4, None)]\n",
    "cgan = CGAN(discriminator_layers, generator_layers)"
   ]
  },
  {
   "cell_type": "code",
   "execution_count": 4,
   "metadata": {
    "collapsed": false
   },
   "outputs": [],
   "source": [
    "n_classes = y.shape[1]\n",
    "X_placeholder, discriminator_parameters = CGAN._initialize_model(cgan.discriminator_layers, n_classes)\n",
    "Z_placeholder, generator_parameters = CGAN._initialize_model(cgan.generator_layers, n_classes)\n",
    "y_placeholder = tf.placeholder(tf.float32, [None, n_classes])"
   ]
  },
  {
   "cell_type": "code",
   "execution_count": 5,
   "metadata": {
    "collapsed": false
   },
   "outputs": [],
   "source": [
    "generator_logit = CGAN._output_logit_tensor(tf.concat(axis=1, values=[Z_placeholder, y_placeholder]), cgan.generator_layers, generator_parameters)\n",
    "discriminator_logit_real = CGAN._output_logit_tensor(tf.concat(axis=1, values=[X_placeholder, y_placeholder]), cgan.discriminator_layers, discriminator_parameters)\n",
    "discriminator_logit_generated = CGAN._output_logit_tensor(tf.concat(axis=1, values=[tf.nn.sigmoid(generator_logit), y_placeholder]), cgan.discriminator_layers, discriminator_parameters)"
   ]
  },
  {
   "cell_type": "code",
   "execution_count": 6,
   "metadata": {
    "collapsed": false
   },
   "outputs": [],
   "source": [
    "discriminator_loss = CGAN._return_loss(discriminator_logit_real, True) + GAN._return_loss(discriminator_logit_generated, False)\n",
    "generator_loss = CGAN._return_loss(discriminator_logit_generated, True)"
   ]
  },
  {
   "cell_type": "code",
   "execution_count": 7,
   "metadata": {
    "collapsed": false
   },
   "outputs": [],
   "source": [
    "discriminator_update_step = CGAN._update_model_parameters(cgan.discriminator_optimizer, discriminator_loss, discriminator_parameters)\n",
    "generator_update_step = CGAN._update_model_parameters(cgan.generator_optimizer, generator_loss, generator_parameters)"
   ]
  },
  {
   "cell_type": "code",
   "execution_count": 8,
   "metadata": {
    "collapsed": false
   },
   "outputs": [],
   "source": [
    "sess = tf.Session()\n",
    "init = tf.global_variables_initializer()\n",
    "sess.run(init)"
   ]
  },
  {
   "cell_type": "code",
   "execution_count": 11,
   "metadata": {
    "collapsed": false
   },
   "outputs": [],
   "source": [
    "batch_size = 5\n",
    "n_batches = int(X.shape[0] / batch_size)\n",
    "n_Z_features = cgan.generator_layers[0][0] - n_classes"
   ]
  },
  {
   "cell_type": "code",
   "execution_count": 12,
   "metadata": {
    "collapsed": false
   },
   "outputs": [
    {
     "data": {
      "text/plain": [
       "6"
      ]
     },
     "execution_count": 12,
     "metadata": {},
     "output_type": "execute_result"
    }
   ],
   "source": [
    "n_Z_features"
   ]
  },
  {
   "cell_type": "code",
   "execution_count": null,
   "metadata": {
    "collapsed": true
   },
   "outputs": [],
   "source": []
  }
 ],
 "metadata": {
  "kernelspec": {
   "display_name": "Python 3",
   "language": "python",
   "name": "python3"
  },
  "language_info": {
   "codemirror_mode": {
    "name": "ipython",
    "version": 3
   },
   "file_extension": ".py",
   "mimetype": "text/x-python",
   "name": "python",
   "nbconvert_exporter": "python",
   "pygments_lexer": "ipython3",
   "version": "3.6.0"
  }
 },
 "nbformat": 4,
 "nbformat_minor": 2
}
