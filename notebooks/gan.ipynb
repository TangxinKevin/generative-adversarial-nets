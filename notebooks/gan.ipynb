{
 "cells": [
  {
   "cell_type": "code",
   "execution_count": 1,
   "metadata": {
    "collapsed": false,
    "deletable": true,
    "editable": true
   },
   "outputs": [
    {
     "name": "stderr",
     "output_type": "stream",
     "text": [
      "Using TensorFlow backend.\n"
     ]
    }
   ],
   "source": [
    "import sys\n",
    "from keras.models import Sequential\n",
    "from keras.layers import Dense\n",
    "from keras.layers.core import Activation\n",
    "sys.path.append('../../generative-adversarial-nets')\n",
    "from ganetwork import GAN"
   ]
  },
  {
   "cell_type": "code",
   "execution_count": 2,
   "metadata": {
    "collapsed": false,
    "deletable": true,
    "editable": true
   },
   "outputs": [],
   "source": [
    "from sklearn import datasets\n",
    "from sklearn.preprocessing import minmax_scale\n",
    "X = minmax_scale(datasets.load_iris().data)\n",
    "\n",
    "generator = Sequential([\n",
    "    Dense(input_dim=10, output_dim=20),\n",
    "    Activation('tanh'),\n",
    "    Dense(output_dim=10),\n",
    "    Activation('tanh'),\n",
    "    Dense(output_dim=X.shape[1]),\n",
    "    Activation('sigmoid')\n",
    "])\n",
    "\n",
    "discriminator = Sequential([\n",
    "    Dense(input_dim=X.shape[1], output_dim=20),\n",
    "    Activation('tanh'),\n",
    "    Dense(output_dim=10),\n",
    "    Activation('tanh'),\n",
    "    Dense(1),\n",
    "    Activation('sigmoid')\n",
    "])"
   ]
  },
  {
   "cell_type": "code",
   "execution_count": 3,
   "metadata": {
    "collapsed": false,
    "deletable": true,
    "editable": true
   },
   "outputs": [],
   "source": [
    "gan = GAN(generator, discriminator)"
   ]
  },
  {
   "cell_type": "code",
   "execution_count": null,
   "metadata": {
    "collapsed": false,
    "deletable": true,
    "editable": true
   },
   "outputs": [
    {
     "name": "stdout",
     "output_type": "stream",
     "text": [
      "Epoch 0, d_loss: 0.702487, g_loss: 0.687994\n",
      "Epoch 1, d_loss: 0.696958, g_loss: 0.673605\n",
      "Epoch 2, d_loss: 0.699079, g_loss: 0.634370\n",
      "Epoch 3, d_loss: 0.708167, g_loss: 0.635717\n",
      "Epoch 4, d_loss: 0.684646, g_loss: 0.680750\n",
      "Epoch 5, d_loss: 0.678367, g_loss: 0.671657\n",
      "Epoch 6, d_loss: 0.713694, g_loss: 0.652610\n",
      "Epoch 7, d_loss: 0.689814, g_loss: 0.674866\n",
      "Epoch 8, d_loss: 0.616818, g_loss: 0.732660\n",
      "Epoch 9, d_loss: 0.613790, g_loss: 0.694249\n",
      "Epoch 10, d_loss: 0.647456, g_loss: 0.707590\n",
      "Epoch 11, d_loss: 0.691897, g_loss: 0.684995\n",
      "Epoch 12, d_loss: 0.702296, g_loss: 0.677328\n",
      "Epoch 13, d_loss: 0.710621, g_loss: 0.681179\n",
      "Epoch 14, d_loss: 0.739773, g_loss: 0.659445\n",
      "Epoch 15, d_loss: 0.742805, g_loss: 0.654964\n",
      "Epoch 16, d_loss: 0.666610, g_loss: 0.680242\n",
      "Epoch 17, d_loss: 0.576948, g_loss: 0.853370\n",
      "Epoch 18, d_loss: 0.669488, g_loss: 0.570732\n",
      "Epoch 19, d_loss: 0.798104, g_loss: 0.514065\n",
      "Epoch 20, d_loss: 0.778969, g_loss: 0.634844\n",
      "Epoch 21, d_loss: 0.716538, g_loss: 0.734930\n",
      "Epoch 22, d_loss: 0.676760, g_loss: 0.787413\n",
      "Epoch 23, d_loss: 0.649581, g_loss: 0.780938\n",
      "Epoch 24, d_loss: 0.636228, g_loss: 0.744742\n",
      "Epoch 25, d_loss: 0.624784, g_loss: 0.728787\n",
      "Epoch 26, d_loss: 0.676175, g_loss: 0.696308\n",
      "Epoch 27, d_loss: 0.748698, g_loss: 0.638036\n",
      "Epoch 28, d_loss: 0.748840, g_loss: 0.561105\n",
      "Epoch 29, d_loss: 0.628999, g_loss: 0.690132\n",
      "Epoch 30, d_loss: 0.588678, g_loss: 0.722474\n",
      "Epoch 31, d_loss: 0.661113, g_loss: 0.520275\n",
      "Epoch 32, d_loss: 0.686707, g_loss: 0.715305\n",
      "Epoch 33, d_loss: 0.646207, g_loss: 0.652231\n",
      "Epoch 34, d_loss: 0.603126, g_loss: 0.784630\n",
      "Epoch 35, d_loss: 0.623855, g_loss: 0.787304\n",
      "Epoch 36, d_loss: 0.641256, g_loss: 0.653559\n",
      "Epoch 37, d_loss: 0.741787, g_loss: 0.536793\n",
      "Epoch 38, d_loss: 0.813804, g_loss: 0.635430\n",
      "Epoch 39, d_loss: 0.781376, g_loss: 0.581966\n",
      "Epoch 40, d_loss: 0.753658, g_loss: 0.611746\n",
      "Epoch 41, d_loss: 0.725152, g_loss: 0.639252\n",
      "Epoch 42, d_loss: 0.694874, g_loss: 0.686014\n",
      "Epoch 43, d_loss: 0.665410, g_loss: 0.737532\n",
      "Epoch 44, d_loss: 0.600599, g_loss: 0.778572\n",
      "Epoch 45, d_loss: 0.592361, g_loss: 0.701748\n",
      "Epoch 46, d_loss: 0.632243, g_loss: 0.671190\n",
      "Epoch 47, d_loss: 0.611261, g_loss: 0.760083\n",
      "Epoch 48, d_loss: 0.660678, g_loss: 0.588529\n",
      "Epoch 49, d_loss: 0.668477, g_loss: 0.685154\n",
      "Epoch 50, d_loss: 0.678340, g_loss: 0.686324\n",
      "Epoch 51, d_loss: 0.682771, g_loss: 0.660123\n",
      "Epoch 52, d_loss: 0.688794, g_loss: 0.600745\n",
      "Epoch 53, d_loss: 0.700158, g_loss: 0.611353\n",
      "Epoch 54, d_loss: 0.702115, g_loss: 0.621014\n",
      "Epoch 55, d_loss: 0.699701, g_loss: 0.642878\n",
      "Epoch 56, d_loss: 0.699123, g_loss: 0.620854\n",
      "Epoch 57, d_loss: 0.698653, g_loss: 0.641094\n",
      "Epoch 58, d_loss: 0.698134, g_loss: 0.653219\n",
      "Epoch 59, d_loss: 0.701355, g_loss: 0.646766\n",
      "Epoch 60, d_loss: 0.705987, g_loss: 0.653607\n",
      "Epoch 61, d_loss: 0.696901, g_loss: 0.665285\n",
      "Epoch 62, d_loss: 0.699417, g_loss: 0.675026\n",
      "Epoch 63, d_loss: 0.683374, g_loss: 0.653382\n",
      "Epoch 64, d_loss: 0.688229, g_loss: 0.687083\n",
      "Epoch 65, d_loss: 0.687688, g_loss: 0.665307\n",
      "Epoch 66, d_loss: 0.683517, g_loss: 0.659984\n",
      "Epoch 67, d_loss: 0.675102, g_loss: 0.682051\n",
      "Epoch 68, d_loss: 0.666753, g_loss: 0.690727\n",
      "Epoch 69, d_loss: 0.675110, g_loss: 0.662204\n",
      "Epoch 70, d_loss: 0.691782, g_loss: 0.703077\n",
      "Epoch 71, d_loss: 0.680692, g_loss: 0.700207\n",
      "Epoch 72, d_loss: 0.668187, g_loss: 0.671541\n",
      "Epoch 73, d_loss: 0.678354, g_loss: 0.700948\n",
      "Epoch 74, d_loss: 0.665583, g_loss: 0.688867\n",
      "Epoch 75, d_loss: 0.670161, g_loss: 0.699064\n",
      "Epoch 76, d_loss: 0.678601, g_loss: 0.695971\n",
      "Epoch 77, d_loss: 0.666691, g_loss: 0.685014\n",
      "Epoch 78, d_loss: 0.675358, g_loss: 0.709496\n",
      "Epoch 79, d_loss: 0.691774, g_loss: 0.685461\n",
      "Epoch 80, d_loss: 0.684005, g_loss: 0.693581\n",
      "Epoch 81, d_loss: 0.721792, g_loss: 0.649814\n",
      "Epoch 82, d_loss: 0.704047, g_loss: 0.695848\n",
      "Epoch 83, d_loss: 0.715455, g_loss: 0.708503\n",
      "Epoch 84, d_loss: 0.695733, g_loss: 0.652336\n",
      "Epoch 85, d_loss: 0.701177, g_loss: 0.694495\n",
      "Epoch 86, d_loss: 0.688315, g_loss: 0.723012\n",
      "Epoch 87, d_loss: 0.706892, g_loss: 0.743837\n",
      "Epoch 88, d_loss: 0.710446, g_loss: 0.691475\n",
      "Epoch 89, d_loss: 0.712960, g_loss: 0.645256\n",
      "Epoch 90, d_loss: 0.719307, g_loss: 0.702035\n",
      "Epoch 91, d_loss: 0.697306, g_loss: 0.626066\n",
      "Epoch 92, d_loss: 0.732191, g_loss: 0.673309\n",
      "Epoch 93, d_loss: 0.728851, g_loss: 0.663704\n",
      "Epoch 94, d_loss: 0.724978, g_loss: 0.657086\n",
      "Epoch 95, d_loss: 0.721022, g_loss: 0.659260\n",
      "Epoch 96, d_loss: 0.701095, g_loss: 0.670303\n",
      "Epoch 97, d_loss: 0.699548, g_loss: 0.680018\n",
      "Epoch 98, d_loss: 0.694988, g_loss: 0.684652\n",
      "Epoch 99, d_loss: 0.687297, g_loss: 0.690785\n",
      "Epoch 100, d_loss: 0.693277, g_loss: 0.685527\n",
      "Epoch 101, d_loss: 0.689919, g_loss: 0.699149\n",
      "Epoch 102, d_loss: 0.686624, g_loss: 0.691187\n",
      "Epoch 103, d_loss: 0.684976, g_loss: 0.697677\n",
      "Epoch 104, d_loss: 0.691117, g_loss: 0.686041\n",
      "Epoch 105, d_loss: 0.693278, g_loss: 0.672188\n",
      "Epoch 106, d_loss: 0.692770, g_loss: 0.679644\n",
      "Epoch 107, d_loss: 0.688124, g_loss: 0.683517\n",
      "Epoch 108, d_loss: 0.686855, g_loss: 0.679744\n",
      "Epoch 109, d_loss: 0.683896, g_loss: 0.691123\n",
      "Epoch 110, d_loss: 0.676739, g_loss: 0.697224\n",
      "Epoch 111, d_loss: 0.674151, g_loss: 0.715291\n",
      "Epoch 112, d_loss: 0.665482, g_loss: 0.678310\n",
      "Epoch 113, d_loss: 0.674768, g_loss: 0.692804\n",
      "Epoch 114, d_loss: 0.690377, g_loss: 0.686003\n",
      "Epoch 115, d_loss: 0.686147, g_loss: 0.704685\n",
      "Epoch 116, d_loss: 0.670759, g_loss: 0.671080\n",
      "Epoch 117, d_loss: 0.672784, g_loss: 0.690729\n",
      "Epoch 118, d_loss: 0.669295, g_loss: 0.691669\n",
      "Epoch 119, d_loss: 0.682015, g_loss: 0.704925\n",
      "Epoch 120, d_loss: 0.687793, g_loss: 0.712464\n",
      "Epoch 121, d_loss: 0.669468, g_loss: 0.705763\n",
      "Epoch 122, d_loss: 0.680805, g_loss: 0.693689\n",
      "Epoch 123, d_loss: 0.683602, g_loss: 0.686461\n",
      "Epoch 124, d_loss: 0.686560, g_loss: 0.704587\n",
      "Epoch 125, d_loss: 0.691518, g_loss: 0.682200\n",
      "Epoch 126, d_loss: 0.690665, g_loss: 0.695114\n",
      "Epoch 127, d_loss: 0.694617, g_loss: 0.678773\n",
      "Epoch 128, d_loss: 0.689387, g_loss: 0.679496\n",
      "Epoch 129, d_loss: 0.695774, g_loss: 0.688930\n",
      "Epoch 130, d_loss: 0.698111, g_loss: 0.676901\n",
      "Epoch 131, d_loss: 0.691890, g_loss: 0.669006\n",
      "Epoch 132, d_loss: 0.700519, g_loss: 0.683594\n",
      "Epoch 133, d_loss: 0.703684, g_loss: 0.686852\n",
      "Epoch 134, d_loss: 0.708515, g_loss: 0.689773\n",
      "Epoch 135, d_loss: 0.715349, g_loss: 0.694439\n",
      "Epoch 136, d_loss: 0.687495, g_loss: 0.698120\n",
      "Epoch 137, d_loss: 0.684253, g_loss: 0.703808\n",
      "Epoch 138, d_loss: 0.674468, g_loss: 0.712414\n",
      "Epoch 139, d_loss: 0.664165, g_loss: 0.697320\n",
      "Epoch 140, d_loss: 0.673620, g_loss: 0.709527\n",
      "Epoch 141, d_loss: 0.683719, g_loss: 0.684964\n",
      "Epoch 142, d_loss: 0.696810, g_loss: 0.691605\n",
      "Epoch 143, d_loss: 0.701692, g_loss: 0.685889\n",
      "Epoch 144, d_loss: 0.706059, g_loss: 0.659085\n",
      "Epoch 145, d_loss: 0.701901, g_loss: 0.682033\n",
      "Epoch 146, d_loss: 0.688279, g_loss: 0.691091\n",
      "Epoch 147, d_loss: 0.699368, g_loss: 0.699050\n",
      "Epoch 148, d_loss: 0.699327, g_loss: 0.689965\n",
      "Epoch 149, d_loss: 0.679416, g_loss: 0.705003\n",
      "Epoch 150, d_loss: 0.669963, g_loss: 0.722286\n",
      "Epoch 151, d_loss: 0.657415, g_loss: 0.759205\n",
      "Epoch 152, d_loss: 0.666898, g_loss: 0.700997\n",
      "Epoch 153, d_loss: 0.674973, g_loss: 0.680925\n",
      "Epoch 154, d_loss: 0.754802, g_loss: 0.617282\n",
      "Epoch 155, d_loss: 0.720594, g_loss: 0.646496\n",
      "Epoch 156, d_loss: 0.694974, g_loss: 0.681231\n",
      "Epoch 157, d_loss: 0.656847, g_loss: 0.734438\n",
      "Epoch 158, d_loss: 0.624817, g_loss: 0.767434\n",
      "Epoch 159, d_loss: 0.651795, g_loss: 0.695717\n",
      "Epoch 160, d_loss: 0.702273, g_loss: 0.660512\n",
      "Epoch 161, d_loss: 0.741642, g_loss: 0.655213\n",
      "Epoch 162, d_loss: 0.758806, g_loss: 0.638694\n",
      "Epoch 163, d_loss: 0.747874, g_loss: 0.673274\n"
     ]
    }
   ],
   "source": [
    "gan.train(X, nb_epoch=200, batch_size=5, verbose=1)"
   ]
  },
  {
   "cell_type": "code",
   "execution_count": 6,
   "metadata": {
    "collapsed": false
   },
   "outputs": [
    {
     "data": {
      "text/plain": [
       "array([[ 0.22883137,  0.52514958,  0.09685227,  0.05670163],\n",
       "       [ 0.12767771,  0.63924187,  0.02314883,  0.00890098],\n",
       "       [ 0.26009768,  0.40542036,  0.1349242 ,  0.10592101],\n",
       "       [ 0.11304703,  0.74689978,  0.01221513,  0.00959801],\n",
       "       [ 0.59669799,  0.15337819,  0.73001206,  0.73619771],\n",
       "       [ 0.3515369 ,  0.32468462,  0.26137495,  0.23144047],\n",
       "       [ 0.60210323,  0.15177473,  0.73582643,  0.74648517],\n",
       "       [ 0.13045764,  0.67401534,  0.02191448,  0.01543704],\n",
       "       [ 0.70147771,  0.17136613,  0.8709361 ,  0.91082835],\n",
       "       [ 0.69337583,  0.15008636,  0.85582322,  0.89462584]], dtype=float32)"
      ]
     },
     "execution_count": 6,
     "metadata": {},
     "output_type": "execute_result"
    }
   ],
   "source": [
    "gan.generate(10)"
   ]
  },
  {
   "cell_type": "code",
   "execution_count": null,
   "metadata": {
    "collapsed": true
   },
   "outputs": [],
   "source": []
  }
 ],
 "metadata": {
  "kernelspec": {
   "display_name": "Python 3",
   "language": "python",
   "name": "python3"
  },
  "language_info": {
   "codemirror_mode": {
    "name": "ipython",
    "version": 3
   },
   "file_extension": ".py",
   "mimetype": "text/x-python",
   "name": "python",
   "nbconvert_exporter": "python",
   "pygments_lexer": "ipython3",
   "version": "3.6.0"
  }
 },
 "nbformat": 4,
 "nbformat_minor": 2
}
