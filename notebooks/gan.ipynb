{
 "cells": [
  {
   "cell_type": "code",
   "execution_count": 1,
   "metadata": {
    "collapsed": false,
    "deletable": true,
    "editable": true
   },
   "outputs": [],
   "source": [
    "import sys\n",
    "import tensorflow as tf\n",
    "sys.path.append('../../generative-adversarial-nets/')\n",
    "from ganetwork import GAN, CGAN\n",
    "from sklearn import datasets\n",
    "from sklearn.preprocessing import minmax_scale, LabelBinarizer"
   ]
  },
  {
   "cell_type": "code",
   "execution_count": 2,
   "metadata": {
    "collapsed": false,
    "deletable": true,
    "editable": true
   },
   "outputs": [],
   "source": [
    "ds = datasets.load_iris()\n",
    "X, y = minmax_scale(ds.data), LabelBinarizer().fit_transform(ds.target)"
   ]
  },
  {
   "cell_type": "code",
   "execution_count": 3,
   "metadata": {
    "collapsed": false,
    "deletable": true,
    "editable": true
   },
   "outputs": [
    {
     "name": "stdout",
     "output_type": "stream",
     "text": [
      "Epoch: 0, discriminator loss: 1.5570275783538818, generator loss: 0.36414971947669983\n",
      "Epoch: 1, discriminator loss: 1.4365156888961792, generator loss: 0.486114501953125\n",
      "Epoch: 2, discriminator loss: 1.3996174335479736, generator loss: 0.5563958883285522\n",
      "Epoch: 3, discriminator loss: 1.386549711227417, generator loss: 0.6266053915023804\n",
      "Epoch: 4, discriminator loss: 1.412413477897644, generator loss: 0.639626145362854\n",
      "Epoch: 5, discriminator loss: 1.4342918395996094, generator loss: 0.6600140333175659\n",
      "Epoch: 6, discriminator loss: 1.432455062866211, generator loss: 0.6395387649536133\n",
      "Epoch: 7, discriminator loss: 1.4026256799697876, generator loss: 0.6956972479820251\n",
      "Epoch: 8, discriminator loss: 1.4157814979553223, generator loss: 0.6634725332260132\n",
      "Epoch: 9, discriminator loss: 1.4599792957305908, generator loss: 0.7059472799301147\n",
      "Epoch: 10, discriminator loss: 1.4524977207183838, generator loss: 0.6635796427726746\n",
      "Epoch: 11, discriminator loss: 1.444462776184082, generator loss: 0.7330790758132935\n",
      "Epoch: 12, discriminator loss: 1.4190419912338257, generator loss: 0.6789335012435913\n",
      "Epoch: 13, discriminator loss: 1.4262936115264893, generator loss: 0.7018483281135559\n",
      "Epoch: 14, discriminator loss: 1.4032070636749268, generator loss: 0.687694251537323\n",
      "Epoch: 15, discriminator loss: 1.4037961959838867, generator loss: 0.6928539276123047\n",
      "Epoch: 16, discriminator loss: 1.397512435913086, generator loss: 0.7186776399612427\n",
      "Epoch: 17, discriminator loss: 1.4041624069213867, generator loss: 0.6866419911384583\n",
      "Epoch: 18, discriminator loss: 1.3997581005096436, generator loss: 0.6866478323936462\n",
      "Epoch: 19, discriminator loss: 1.4012963771820068, generator loss: 0.691246509552002\n",
      "Epoch: 20, discriminator loss: 1.393747329711914, generator loss: 0.6962469220161438\n",
      "Epoch: 21, discriminator loss: 1.3900364637374878, generator loss: 0.6916917562484741\n",
      "Epoch: 22, discriminator loss: 1.3930617570877075, generator loss: 0.688553512096405\n",
      "Epoch: 23, discriminator loss: 1.3940150737762451, generator loss: 0.6905733942985535\n",
      "Epoch: 24, discriminator loss: 1.3905599117279053, generator loss: 0.6895593404769897\n",
      "Epoch: 25, discriminator loss: 1.3879809379577637, generator loss: 0.6960201859474182\n",
      "Epoch: 26, discriminator loss: 1.392762541770935, generator loss: 0.693261444568634\n",
      "Epoch: 27, discriminator loss: 1.3907034397125244, generator loss: 0.6924814581871033\n",
      "Epoch: 28, discriminator loss: 1.3861815929412842, generator loss: 0.690303385257721\n",
      "Epoch: 29, discriminator loss: 1.3640239238739014, generator loss: 0.6893489956855774\n",
      "Epoch: 30, discriminator loss: 1.28709077835083, generator loss: 0.5963565111160278\n",
      "Epoch: 31, discriminator loss: 1.1873555183410645, generator loss: 0.7489325404167175\n",
      "Epoch: 32, discriminator loss: 1.2086422443389893, generator loss: 0.6859612464904785\n",
      "Epoch: 33, discriminator loss: 1.31483793258667, generator loss: 0.6143057346343994\n",
      "Epoch: 34, discriminator loss: 1.3983478546142578, generator loss: 0.7254707217216492\n",
      "Epoch: 35, discriminator loss: 1.361546277999878, generator loss: 0.7056023478507996\n",
      "Epoch: 36, discriminator loss: 1.3869609832763672, generator loss: 0.7294377684593201\n",
      "Epoch: 37, discriminator loss: 1.377615213394165, generator loss: 0.7180703282356262\n",
      "Epoch: 38, discriminator loss: 1.3871561288833618, generator loss: 0.6983959674835205\n",
      "Epoch: 39, discriminator loss: 1.3901431560516357, generator loss: 0.6905874013900757\n",
      "Epoch: 40, discriminator loss: 1.3915154933929443, generator loss: 0.6925009489059448\n",
      "Epoch: 41, discriminator loss: 1.3892343044281006, generator loss: 0.6943212747573853\n",
      "Epoch: 42, discriminator loss: 1.389085054397583, generator loss: 0.6936306953430176\n",
      "Epoch: 43, discriminator loss: 1.3900830745697021, generator loss: 0.6922323703765869\n",
      "Epoch: 44, discriminator loss: 1.3898019790649414, generator loss: 0.6922400593757629\n",
      "Epoch: 45, discriminator loss: 1.3895105123519897, generator loss: 0.6936468482017517\n",
      "Epoch: 46, discriminator loss: 1.390338659286499, generator loss: 0.6920402646064758\n",
      "Epoch: 47, discriminator loss: 1.387563943862915, generator loss: 0.6932253837585449\n",
      "Epoch: 48, discriminator loss: 1.3886998891830444, generator loss: 0.6923115253448486\n",
      "Epoch: 49, discriminator loss: 1.3869435787200928, generator loss: 0.6925095319747925\n"
     ]
    }
   ],
   "source": [
    "discriminator_layers=[(4, None), (8, tf.nn.tanh), (3, tf.nn.softmax), (1, None)]\n",
    "generator_layers=[(6, None), (5, tf.nn.tanh), (4, None)]\n",
    "gan = GAN(discriminator_layers, generator_layers)\n",
    "gan.train(X, nb_epoch=50, batch_size=5, discriminator_steps=3)"
   ]
  },
  {
   "cell_type": "code",
   "execution_count": 4,
   "metadata": {
    "collapsed": false,
    "deletable": true,
    "editable": true
   },
   "outputs": [
    {
     "name": "stdout",
     "output_type": "stream",
     "text": [
      "Epoch: 0, discriminator loss: 1.8388135433197021, generator loss: 0.22197838127613068\n",
      "Epoch: 1, discriminator loss: 1.7347800731658936, generator loss: 0.26084405183792114\n",
      "Epoch: 2, discriminator loss: 1.645878791809082, generator loss: 0.3028460741043091\n",
      "Epoch: 3, discriminator loss: 1.5836520195007324, generator loss: 0.3411028981208801\n",
      "Epoch: 4, discriminator loss: 1.5391974449157715, generator loss: 0.3736936151981354\n",
      "Epoch: 5, discriminator loss: 1.5077012777328491, generator loss: 0.4034876823425293\n",
      "Epoch: 6, discriminator loss: 1.4826488494873047, generator loss: 0.4292951226234436\n",
      "Epoch: 7, discriminator loss: 1.4611555337905884, generator loss: 0.45460158586502075\n",
      "Epoch: 8, discriminator loss: 1.4470641613006592, generator loss: 0.4766998887062073\n",
      "Epoch: 9, discriminator loss: 1.4348974227905273, generator loss: 0.5005998611450195\n",
      "Epoch: 10, discriminator loss: 1.4244184494018555, generator loss: 0.5186344981193542\n",
      "Epoch: 11, discriminator loss: 1.4145386219024658, generator loss: 0.5418691635131836\n",
      "Epoch: 12, discriminator loss: 1.4108023643493652, generator loss: 0.5568974614143372\n",
      "Epoch: 13, discriminator loss: 1.4058631658554077, generator loss: 0.5761725306510925\n",
      "Epoch: 14, discriminator loss: 1.4017012119293213, generator loss: 0.5924603343009949\n",
      "Epoch: 15, discriminator loss: 1.3974318504333496, generator loss: 0.6028167009353638\n",
      "Epoch: 16, discriminator loss: 1.3937369585037231, generator loss: 0.6187822222709656\n",
      "Epoch: 17, discriminator loss: 1.3921055793762207, generator loss: 0.6307833790779114\n",
      "Epoch: 18, discriminator loss: 1.3921159505844116, generator loss: 0.6398614048957825\n",
      "Epoch: 19, discriminator loss: 1.390592098236084, generator loss: 0.649526834487915\n",
      "Epoch: 20, discriminator loss: 1.3899452686309814, generator loss: 0.6573680639266968\n",
      "Epoch: 21, discriminator loss: 1.3890374898910522, generator loss: 0.6633298993110657\n",
      "Epoch: 22, discriminator loss: 1.3878257274627686, generator loss: 0.669718861579895\n",
      "Epoch: 23, discriminator loss: 1.3874998092651367, generator loss: 0.6727892756462097\n",
      "Epoch: 24, discriminator loss: 1.387483835220337, generator loss: 0.6781433820724487\n",
      "Epoch: 25, discriminator loss: 1.3877605199813843, generator loss: 0.6813702583312988\n",
      "Epoch: 26, discriminator loss: 1.387751817703247, generator loss: 0.6846166253089905\n",
      "Epoch: 27, discriminator loss: 1.3878092765808105, generator loss: 0.6870187520980835\n",
      "Epoch: 28, discriminator loss: 1.3870983123779297, generator loss: 0.6900094151496887\n",
      "Epoch: 29, discriminator loss: 1.3873265981674194, generator loss: 0.6924841403961182\n",
      "Epoch: 30, discriminator loss: 1.3870130777359009, generator loss: 0.6957373023033142\n",
      "Epoch: 31, discriminator loss: 1.3877313137054443, generator loss: 0.6976093053817749\n",
      "Epoch: 32, discriminator loss: 1.3877851963043213, generator loss: 0.7010655403137207\n",
      "Epoch: 33, discriminator loss: 1.3875393867492676, generator loss: 0.7055876851081848\n",
      "Epoch: 34, discriminator loss: 1.388326644897461, generator loss: 0.7109994292259216\n",
      "Epoch: 35, discriminator loss: 1.3883322477340698, generator loss: 0.716943085193634\n",
      "Epoch: 36, discriminator loss: 1.3882739543914795, generator loss: 0.7200391888618469\n",
      "Epoch: 37, discriminator loss: 1.388533353805542, generator loss: 0.7215293049812317\n",
      "Epoch: 38, discriminator loss: 1.3881893157958984, generator loss: 0.7209798097610474\n",
      "Epoch: 39, discriminator loss: 1.3881245851516724, generator loss: 0.7198187112808228\n",
      "Epoch: 40, discriminator loss: 1.3877211809158325, generator loss: 0.7178000211715698\n",
      "Epoch: 41, discriminator loss: 1.387345314025879, generator loss: 0.7153029441833496\n",
      "Epoch: 42, discriminator loss: 1.3872159719467163, generator loss: 0.7127764225006104\n",
      "Epoch: 43, discriminator loss: 1.3871304988861084, generator loss: 0.7103739976882935\n",
      "Epoch: 44, discriminator loss: 1.3869256973266602, generator loss: 0.7080639004707336\n",
      "Epoch: 45, discriminator loss: 1.386850118637085, generator loss: 0.7060168385505676\n",
      "Epoch: 46, discriminator loss: 1.38679838180542, generator loss: 0.7042255401611328\n",
      "Epoch: 47, discriminator loss: 1.3867278099060059, generator loss: 0.7027059197425842\n",
      "Epoch: 48, discriminator loss: 1.386713981628418, generator loss: 0.7014990448951721\n",
      "Epoch: 49, discriminator loss: 1.3866530656814575, generator loss: 0.7003843188285828\n"
     ]
    }
   ],
   "source": [
    "discriminator_layers=[(7, None), (8, tf.nn.tanh), (3, tf.nn.softmax), (1, None)]\n",
    "generator_layers=[(9, None), (5, tf.nn.tanh), (4, None)]\n",
    "cgan = CGAN(discriminator_layers, generator_layers)\n",
    "cgan.train(X, y, nb_epoch=50, batch_size=5)"
   ]
  },
  {
   "cell_type": "code",
   "execution_count": null,
   "metadata": {
    "collapsed": true
   },
   "outputs": [],
   "source": []
  }
 ],
 "metadata": {
  "kernelspec": {
   "display_name": "Python 3",
   "language": "python",
   "name": "python3"
  },
  "language_info": {
   "codemirror_mode": {
    "name": "ipython",
    "version": 3
   },
   "file_extension": ".py",
   "mimetype": "text/x-python",
   "name": "python",
   "nbconvert_exporter": "python",
   "pygments_lexer": "ipython3",
   "version": "3.6.0"
  }
 },
 "nbformat": 4,
 "nbformat_minor": 2
}
