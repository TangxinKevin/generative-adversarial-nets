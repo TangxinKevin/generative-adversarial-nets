{
 "cells": [
  {
   "cell_type": "code",
   "execution_count": 1,
   "metadata": {
    "collapsed": false,
    "deletable": true,
    "editable": true
   },
   "outputs": [],
   "source": [
    "import sys\n",
    "import tensorflow as tf\n",
    "sys.path.append('../../generative-adversarial-nets/')\n",
    "from ganetwork import GAN, CGAN\n",
    "from sklearn import datasets\n",
    "from sklearn.preprocessing import minmax_scale, LabelBinarizer"
   ]
  },
  {
   "cell_type": "code",
   "execution_count": 2,
   "metadata": {
    "collapsed": false,
    "deletable": true,
    "editable": true
   },
   "outputs": [],
   "source": [
    "ds = datasets.load_iris()\n",
    "X, y = minmax_scale(ds.data), LabelBinarizer().fit_transform(ds.target)"
   ]
  },
  {
   "cell_type": "code",
   "execution_count": 3,
   "metadata": {
    "collapsed": false,
    "deletable": true,
    "editable": true
   },
   "outputs": [
    {
     "name": "stdout",
     "output_type": "stream",
     "text": [
      "Epoch: 0, discriminator loss: 1.610071063041687, generator loss: 0.3254099488258362\n",
      "Epoch: 1, discriminator loss: 1.5549211502075195, generator loss: 0.3621979355812073\n",
      "Epoch: 2, discriminator loss: 1.5159568786621094, generator loss: 0.3945510983467102\n",
      "Epoch: 3, discriminator loss: 1.4824819564819336, generator loss: 0.42640963196754456\n",
      "Epoch: 4, discriminator loss: 1.4577782154083252, generator loss: 0.4583534300327301\n",
      "Epoch: 5, discriminator loss: 1.4371135234832764, generator loss: 0.48945292830467224\n",
      "Epoch: 6, discriminator loss: 1.4213262796401978, generator loss: 0.5113657712936401\n",
      "Epoch: 7, discriminator loss: 1.4105515480041504, generator loss: 0.5527219176292419\n",
      "Epoch: 8, discriminator loss: 1.4058856964111328, generator loss: 0.5661323070526123\n",
      "Epoch: 9, discriminator loss: 1.3885047435760498, generator loss: 0.5910617709159851\n",
      "Epoch: 10, discriminator loss: 1.404038906097412, generator loss: 0.6071320176124573\n",
      "Epoch: 11, discriminator loss: 1.408020257949829, generator loss: 0.61528480052948\n",
      "Epoch: 12, discriminator loss: 1.3933740854263306, generator loss: 0.639406144618988\n",
      "Epoch: 13, discriminator loss: 1.408085823059082, generator loss: 0.6347563862800598\n",
      "Epoch: 14, discriminator loss: 1.4017419815063477, generator loss: 0.6556767225265503\n",
      "Epoch: 15, discriminator loss: 1.393788456916809, generator loss: 0.6683133244514465\n",
      "Epoch: 16, discriminator loss: 1.3947932720184326, generator loss: 0.6702178716659546\n",
      "Epoch: 17, discriminator loss: 1.3890223503112793, generator loss: 0.6641862988471985\n",
      "Epoch: 18, discriminator loss: 1.3834543228149414, generator loss: 0.6724632978439331\n",
      "Epoch: 19, discriminator loss: 1.3775393962860107, generator loss: 0.6731464266777039\n",
      "Epoch: 20, discriminator loss: 1.3890380859375, generator loss: 0.6781612634658813\n",
      "Epoch: 21, discriminator loss: 1.3810904026031494, generator loss: 0.6808556318283081\n",
      "Epoch: 22, discriminator loss: 1.3870437145233154, generator loss: 0.6839011907577515\n",
      "Epoch: 23, discriminator loss: 1.3881276845932007, generator loss: 0.6785179972648621\n",
      "Epoch: 24, discriminator loss: 1.3870348930358887, generator loss: 0.6865087747573853\n",
      "Epoch: 25, discriminator loss: 1.3822321891784668, generator loss: 0.6834336519241333\n",
      "Epoch: 26, discriminator loss: 1.383047103881836, generator loss: 0.6904153227806091\n",
      "Epoch: 27, discriminator loss: 1.3897570371627808, generator loss: 0.6885438561439514\n",
      "Epoch: 28, discriminator loss: 1.3609325885772705, generator loss: 0.6647481918334961\n",
      "Epoch: 29, discriminator loss: 1.3548738956451416, generator loss: 0.6804314851760864\n",
      "Epoch: 30, discriminator loss: 1.3922512531280518, generator loss: 0.692414402961731\n",
      "Epoch: 31, discriminator loss: 1.3302741050720215, generator loss: 0.6892306208610535\n",
      "Epoch: 32, discriminator loss: 1.4135448932647705, generator loss: 0.6383880972862244\n",
      "Epoch: 33, discriminator loss: 1.4073281288146973, generator loss: 0.6738462448120117\n",
      "Epoch: 34, discriminator loss: 1.3697110414505005, generator loss: 0.7232767939567566\n",
      "Epoch: 35, discriminator loss: 1.4286646842956543, generator loss: 0.7331902980804443\n",
      "Epoch: 36, discriminator loss: 1.3729324340820312, generator loss: 0.7069867849349976\n",
      "Epoch: 37, discriminator loss: 1.399296760559082, generator loss: 0.714753270149231\n",
      "Epoch: 38, discriminator loss: 1.3869426250457764, generator loss: 0.7091788053512573\n",
      "Epoch: 39, discriminator loss: 1.3853663206100464, generator loss: 0.7023575305938721\n",
      "Epoch: 40, discriminator loss: 1.3908205032348633, generator loss: 0.6981161832809448\n",
      "Epoch: 41, discriminator loss: 1.3848832845687866, generator loss: 0.6928101778030396\n",
      "Epoch: 42, discriminator loss: 1.378263235092163, generator loss: 0.698737382888794\n",
      "Epoch: 43, discriminator loss: 1.3861477375030518, generator loss: 0.6741430759429932\n",
      "Epoch: 44, discriminator loss: 1.373307704925537, generator loss: 0.6684855222702026\n",
      "Epoch: 45, discriminator loss: 1.3671045303344727, generator loss: 0.635974645614624\n",
      "Epoch: 46, discriminator loss: 1.3555184602737427, generator loss: 0.6582304239273071\n",
      "Epoch: 47, discriminator loss: 1.3656655550003052, generator loss: 0.6314438581466675\n",
      "Epoch: 48, discriminator loss: 1.4056469202041626, generator loss: 0.6657134294509888\n",
      "Epoch: 49, discriminator loss: 1.3527636528015137, generator loss: 0.6296588778495789\n"
     ]
    }
   ],
   "source": [
    "discriminator_layers=[(4, None), (8, tf.nn.tanh), (3, tf.nn.softmax), (1, None)]\n",
    "generator_layers=[(6, None), (5, tf.nn.tanh), (4, None)]\n",
    "gan = GAN(discriminator_layers, generator_layers)\n",
    "gan.train(X, nb_epoch=50, batch_size=5)"
   ]
  },
  {
   "cell_type": "code",
   "execution_count": 4,
   "metadata": {
    "collapsed": false,
    "deletable": true,
    "editable": true
   },
   "outputs": [
    {
     "name": "stdout",
     "output_type": "stream",
     "text": [
      "Epoch: 0, discriminator loss: 1.4867181777954102, generator loss: 0.42529553174972534\n",
      "Epoch: 1, discriminator loss: 1.4550148248672485, generator loss: 0.4636271595954895\n",
      "Epoch: 2, discriminator loss: 1.4329770803451538, generator loss: 0.4982304573059082\n",
      "Epoch: 3, discriminator loss: 1.4148117303848267, generator loss: 0.5315525531768799\n",
      "Epoch: 4, discriminator loss: 1.403078317642212, generator loss: 0.5662804841995239\n",
      "Epoch: 5, discriminator loss: 1.3884347677230835, generator loss: 0.6006386280059814\n",
      "Epoch: 6, discriminator loss: 1.3834660053253174, generator loss: 0.6324666142463684\n",
      "Epoch: 7, discriminator loss: 1.3579564094543457, generator loss: 0.6523280143737793\n",
      "Epoch: 8, discriminator loss: 1.372119665145874, generator loss: 0.6691479682922363\n",
      "Epoch: 9, discriminator loss: 1.2960481643676758, generator loss: 0.6779193878173828\n",
      "Epoch: 10, discriminator loss: 1.3683972358703613, generator loss: 0.7042626738548279\n",
      "Epoch: 11, discriminator loss: 1.3918673992156982, generator loss: 0.7246925234794617\n",
      "Epoch: 12, discriminator loss: 1.405104398727417, generator loss: 0.7605040669441223\n",
      "Epoch: 13, discriminator loss: 1.3031251430511475, generator loss: 0.697997510433197\n",
      "Epoch: 14, discriminator loss: 1.4018900394439697, generator loss: 0.7704876065254211\n",
      "Epoch: 15, discriminator loss: 1.3649054765701294, generator loss: 0.7347165942192078\n",
      "Epoch: 16, discriminator loss: 1.3940812349319458, generator loss: 0.7553539276123047\n",
      "Epoch: 17, discriminator loss: 1.3918921947479248, generator loss: 0.741620659828186\n",
      "Epoch: 18, discriminator loss: 1.3909052610397339, generator loss: 0.7232910394668579\n",
      "Epoch: 19, discriminator loss: 1.3890352249145508, generator loss: 0.6997910141944885\n",
      "Epoch: 20, discriminator loss: 1.3886427879333496, generator loss: 0.7054513692855835\n",
      "Epoch: 21, discriminator loss: 1.3872249126434326, generator loss: 0.6913776993751526\n",
      "Epoch: 22, discriminator loss: 1.3905633687973022, generator loss: 0.7034394145011902\n",
      "Epoch: 23, discriminator loss: 1.3858816623687744, generator loss: 0.6940410137176514\n",
      "Epoch: 24, discriminator loss: 1.384627103805542, generator loss: 0.697708249092102\n",
      "Epoch: 25, discriminator loss: 1.389037847518921, generator loss: 0.6964632272720337\n",
      "Epoch: 26, discriminator loss: 1.388235092163086, generator loss: 0.6860944032669067\n",
      "Epoch: 27, discriminator loss: 1.3897864818572998, generator loss: 0.6889013648033142\n",
      "Epoch: 28, discriminator loss: 1.387223482131958, generator loss: 0.6948045492172241\n",
      "Epoch: 29, discriminator loss: 1.386425495147705, generator loss: 0.6909365057945251\n",
      "Epoch: 30, discriminator loss: 1.3867712020874023, generator loss: 0.6931911706924438\n",
      "Epoch: 31, discriminator loss: 1.3867661952972412, generator loss: 0.6943575739860535\n",
      "Epoch: 32, discriminator loss: 1.386836290359497, generator loss: 0.6937194466590881\n",
      "Epoch: 33, discriminator loss: 1.3866194486618042, generator loss: 0.6938573122024536\n",
      "Epoch: 34, discriminator loss: 1.3871257305145264, generator loss: 0.6924701929092407\n",
      "Epoch: 35, discriminator loss: 1.387455940246582, generator loss: 0.691103458404541\n",
      "Epoch: 36, discriminator loss: 1.3866196870803833, generator loss: 0.6934604644775391\n",
      "Epoch: 37, discriminator loss: 1.3872318267822266, generator loss: 0.6930721998214722\n",
      "Epoch: 38, discriminator loss: 1.3868846893310547, generator loss: 0.6910961270332336\n",
      "Epoch: 39, discriminator loss: 1.3874037265777588, generator loss: 0.6917423009872437\n",
      "Epoch: 40, discriminator loss: 1.3868920803070068, generator loss: 0.6917815208435059\n",
      "Epoch: 41, discriminator loss: 1.3869171142578125, generator loss: 0.6911548376083374\n",
      "Epoch: 42, discriminator loss: 1.386509895324707, generator loss: 0.6931824684143066\n",
      "Epoch: 43, discriminator loss: 1.387007713317871, generator loss: 0.6926104426383972\n",
      "Epoch: 44, discriminator loss: 1.3870744705200195, generator loss: 0.6924668550491333\n",
      "Epoch: 45, discriminator loss: 1.3869731426239014, generator loss: 0.6920572519302368\n",
      "Epoch: 46, discriminator loss: 1.3864727020263672, generator loss: 0.6931692361831665\n",
      "Epoch: 47, discriminator loss: 1.3864214420318604, generator loss: 0.6925729513168335\n",
      "Epoch: 48, discriminator loss: 1.386751651763916, generator loss: 0.6926783323287964\n",
      "Epoch: 49, discriminator loss: 1.3866167068481445, generator loss: 0.692230224609375\n"
     ]
    }
   ],
   "source": [
    "discriminator_layers=[(7, None), (8, tf.nn.tanh), (3, tf.nn.softmax), (1, None)]\n",
    "generator_layers=[(9, None), (5, tf.nn.tanh), (4, None)]\n",
    "cgan = CGAN(discriminator_layers, generator_layers)\n",
    "cgan.train(X, y, nb_epoch=50, batch_size=5)"
   ]
  }
 ],
 "metadata": {
  "kernelspec": {
   "display_name": "Python 3",
   "language": "python",
   "name": "python3"
  },
  "language_info": {
   "codemirror_mode": {
    "name": "ipython",
    "version": 3
   },
   "file_extension": ".py",
   "mimetype": "text/x-python",
   "name": "python",
   "nbconvert_exporter": "python",
   "pygments_lexer": "ipython3",
   "version": "3.6.0"
  }
 },
 "nbformat": 4,
 "nbformat_minor": 2
}
