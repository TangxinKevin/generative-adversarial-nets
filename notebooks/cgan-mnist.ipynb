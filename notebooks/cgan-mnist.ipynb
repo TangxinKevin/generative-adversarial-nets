{
 "cells": [
  {
   "cell_type": "code",
   "execution_count": 1,
   "metadata": {
    "collapsed": true,
    "deletable": true,
    "editable": true
   },
   "outputs": [],
   "source": [
    "import sys\n",
    "import tensorflow as tf\n",
    "sys.path.append('../../generative-adversarial-nets/')\n",
    "from ganetwork import GAN, CGAN\n",
    "from sklearn import datasets\n",
    "from sklearn.datasets import fetch_mldata\n",
    "from sklearn.preprocessing import minmax_scale, LabelBinarizer\n",
    "import matplotlib.pyplot as plt\n",
    "from random import choices\n",
    "from math import sqrt\n",
    "import numpy as np\n",
    "from imblearn.datasets import make_imbalance"
   ]
  },
  {
   "cell_type": "code",
   "execution_count": 2,
   "metadata": {
    "collapsed": false,
    "deletable": true,
    "editable": true
   },
   "outputs": [],
   "source": [
    "mnist = fetch_mldata('MNIST original', data_home=\".\")\n",
    "keep_indices = (mnist.target == 1) | (mnist.target == 7)   \n",
    "X, y = minmax_scale(mnist.data.astype(np.float32))[keep_indices], mnist.target[keep_indices]\n",
    "X, y = make_imbalance(X, y, ratio=0.01, random_state=0)\n",
    "y = LabelBinarizer().fit_transform(y)"
   ]
  },
  {
   "cell_type": "code",
   "execution_count": 3,
   "metadata": {
    "collapsed": true,
    "deletable": true,
    "editable": true
   },
   "outputs": [],
   "source": [
    "discriminator_layers=[(X.shape[1] + y.shape[1], None), (128, tf.nn.tanh), (1, None)]\n",
    "generator_layers=[(100 + y.shape[1], None), (128, tf.nn.tanh), (X.shape[1], None)]\n",
    "cgan = CGAN(discriminator_layers, generator_layers)"
   ]
  },
  {
   "cell_type": "code",
   "execution_count": 4,
   "metadata": {
    "collapsed": false,
    "deletable": true,
    "editable": true
   },
   "outputs": [
    {
     "name": "stdout",
     "output_type": "stream",
     "text": [
      "Epoch: 0, discriminator loss: 0.004264468792825937, generator loss: 14.06130313873291\n",
      "Epoch: 1, discriminator loss: 0.00028584766550920904, generator loss: 19.893651962280273\n",
      "Epoch: 2, discriminator loss: 9.609478729544207e-05, generator loss: 23.26659393310547\n"
     ]
    },
    {
     "data": {
      "text/plain": [
       "<ganetwork.CGAN at 0x137d35518>"
      ]
     },
     "execution_count": 4,
     "metadata": {},
     "output_type": "execute_result"
    }
   ],
   "source": [
    "cgan.train(X, y, nb_epoch=3, batch_size=50)"
   ]
  },
  {
   "cell_type": "code",
   "execution_count": 5,
   "metadata": {
    "collapsed": false,
    "deletable": true,
    "editable": true
   },
   "outputs": [],
   "source": [
    "X_generated = cgan.generate_samples(30, 1)"
   ]
  },
  {
   "cell_type": "code",
   "execution_count": null,
   "metadata": {
    "collapsed": false,
    "deletable": true,
    "editable": true
   },
   "outputs": [],
   "source": [
    "plt.rcParams['figure.figsize'] = (20, 20)\n",
    "fig, ax = plt.subplots(1, 20)\n",
    "img_dim = int(sqrt(X.shape[1]))\n",
    "X_img = X_generated.reshape(X_generated.shape[0], img_dim, -1)\n",
    "for ind in range(20):    \n",
    "    ax[ind].imshow(X_img[ind], cmap='gray_r')\n",
    "    ax[ind].axis('off')\n",
    "plt.show()"
   ]
  },
  {
   "cell_type": "code",
   "execution_count": null,
   "metadata": {
    "collapsed": false
   },
   "outputs": [],
   "source": [
    "np.zeros(5, dtype='float32').dtype"
   ]
  },
  {
   "cell_type": "code",
   "execution_count": null,
   "metadata": {
    "collapsed": true
   },
   "outputs": [],
   "source": []
  }
 ],
 "metadata": {
  "kernelspec": {
   "display_name": "Python 3",
   "language": "python",
   "name": "python3"
  },
  "language_info": {
   "codemirror_mode": {
    "name": "ipython",
    "version": 3
   },
   "file_extension": ".py",
   "mimetype": "text/x-python",
   "name": "python",
   "nbconvert_exporter": "python",
   "pygments_lexer": "ipython3",
   "version": "3.6.0"
  }
 },
 "nbformat": 4,
 "nbformat_minor": 2
}
